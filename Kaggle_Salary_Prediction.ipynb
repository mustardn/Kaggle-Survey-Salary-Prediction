{
 "cells": [
  {
   "cell_type": "markdown",
   "metadata": {},
   "source": [
    "# Assignment 2"
   ]
  },
  {
   "cell_type": "code",
   "execution_count": 1,
   "metadata": {},
   "outputs": [
    {
     "name": "stdout",
     "output_type": "stream",
     "text": [
      "Requirement already satisfied: numpy in c:\\users\\natal\\anaconda3\\lib\\site-packages (1.15.4)\n",
      "Requirement already satisfied: pandas in c:\\users\\natal\\anaconda3\\lib\\site-packages (0.23.4)\n",
      "Requirement already satisfied: python-dateutil>=2.5.0 in c:\\users\\natal\\anaconda3\\lib\\site-packages (from pandas) (2.7.5)\n",
      "Requirement already satisfied: pytz>=2011k in c:\\users\\natal\\anaconda3\\lib\\site-packages (from pandas) (2018.7)\n",
      "Requirement already satisfied: numpy>=1.9.0 in c:\\users\\natal\\anaconda3\\lib\\site-packages (from pandas) (1.15.4)\n",
      "Requirement already satisfied: six>=1.5 in c:\\users\\natal\\anaconda3\\lib\\site-packages (from python-dateutil>=2.5.0->pandas) (1.12.0)\n",
      "Requirement already satisfied: scikit-learn in c:\\users\\natal\\anaconda3\\lib\\site-packages (0.20.1)\n",
      "Requirement already satisfied: numpy>=1.8.2 in c:\\users\\natal\\anaconda3\\lib\\site-packages (from scikit-learn) (1.15.4)\n",
      "Requirement already satisfied: scipy>=0.13.3 in c:\\users\\natal\\anaconda3\\lib\\site-packages (from scikit-learn) (1.1.0)\n",
      "Requirement already satisfied: matplotlib in c:\\users\\natal\\anaconda3\\lib\\site-packages (3.0.2)\n",
      "Requirement already satisfied: numpy>=1.10.0 in c:\\users\\natal\\anaconda3\\lib\\site-packages (from matplotlib) (1.15.4)\n",
      "Requirement already satisfied: cycler>=0.10 in c:\\users\\natal\\anaconda3\\lib\\site-packages (from matplotlib) (0.10.0)\n",
      "Requirement already satisfied: kiwisolver>=1.0.1 in c:\\users\\natal\\anaconda3\\lib\\site-packages (from matplotlib) (1.0.1)\n",
      "Requirement already satisfied: pyparsing!=2.0.4,!=2.1.2,!=2.1.6,>=2.0.1 in c:\\users\\natal\\anaconda3\\lib\\site-packages (from matplotlib) (2.3.0)\n",
      "Requirement already satisfied: python-dateutil>=2.1 in c:\\users\\natal\\anaconda3\\lib\\site-packages (from matplotlib) (2.7.5)\n",
      "Requirement already satisfied: six in c:\\users\\natal\\anaconda3\\lib\\site-packages (from cycler>=0.10->matplotlib) (1.12.0)\n",
      "Requirement already satisfied: setuptools in c:\\users\\natal\\anaconda3\\lib\\site-packages (from kiwisolver>=1.0.1->matplotlib) (40.6.3)\n",
      "Requirement already satisfied: seaborn in c:\\users\\natal\\anaconda3\\lib\\site-packages (0.9.0)\n",
      "Requirement already satisfied: matplotlib>=1.4.3 in c:\\users\\natal\\anaconda3\\lib\\site-packages (from seaborn) (3.0.2)\n",
      "Requirement already satisfied: scipy>=0.14.0 in c:\\users\\natal\\anaconda3\\lib\\site-packages (from seaborn) (1.1.0)\n",
      "Requirement already satisfied: pandas>=0.15.2 in c:\\users\\natal\\anaconda3\\lib\\site-packages (from seaborn) (0.23.4)\n",
      "Requirement already satisfied: numpy>=1.9.3 in c:\\users\\natal\\anaconda3\\lib\\site-packages (from seaborn) (1.15.4)\n",
      "Requirement already satisfied: cycler>=0.10 in c:\\users\\natal\\anaconda3\\lib\\site-packages (from matplotlib>=1.4.3->seaborn) (0.10.0)\n",
      "Requirement already satisfied: kiwisolver>=1.0.1 in c:\\users\\natal\\anaconda3\\lib\\site-packages (from matplotlib>=1.4.3->seaborn) (1.0.1)\n",
      "Requirement already satisfied: pyparsing!=2.0.4,!=2.1.2,!=2.1.6,>=2.0.1 in c:\\users\\natal\\anaconda3\\lib\\site-packages (from matplotlib>=1.4.3->seaborn) (2.3.0)\n",
      "Requirement already satisfied: python-dateutil>=2.1 in c:\\users\\natal\\anaconda3\\lib\\site-packages (from matplotlib>=1.4.3->seaborn) (2.7.5)\n",
      "Requirement already satisfied: pytz>=2011k in c:\\users\\natal\\anaconda3\\lib\\site-packages (from pandas>=0.15.2->seaborn) (2018.7)\n",
      "Requirement already satisfied: six in c:\\users\\natal\\anaconda3\\lib\\site-packages (from cycler>=0.10->matplotlib>=1.4.3->seaborn) (1.12.0)\n",
      "Requirement already satisfied: setuptools in c:\\users\\natal\\anaconda3\\lib\\site-packages (from kiwisolver>=1.0.1->matplotlib>=1.4.3->seaborn) (40.6.3)\n",
      "Requirement already satisfied: category_encoders in c:\\users\\natal\\anaconda3\\lib\\site-packages (1.3.0)\n",
      "Requirement already satisfied: numpy>=1.11.1 in c:\\users\\natal\\anaconda3\\lib\\site-packages (from category_encoders) (1.15.4)\n",
      "Requirement already satisfied: statsmodels>=0.6.1 in c:\\users\\natal\\anaconda3\\lib\\site-packages (from category_encoders) (0.9.0)\n",
      "Requirement already satisfied: patsy>=0.4.1 in c:\\users\\natal\\anaconda3\\lib\\site-packages (from category_encoders) (0.5.1)\n",
      "Requirement already satisfied: scikit-learn>=0.17.1 in c:\\users\\natal\\anaconda3\\lib\\site-packages (from category_encoders) (0.20.1)\n",
      "Requirement already satisfied: pandas>=0.20.1 in c:\\users\\natal\\anaconda3\\lib\\site-packages (from category_encoders) (0.23.4)\n",
      "Requirement already satisfied: scipy>=0.17.0 in c:\\users\\natal\\anaconda3\\lib\\site-packages (from category_encoders) (1.1.0)\n",
      "Requirement already satisfied: six in c:\\users\\natal\\anaconda3\\lib\\site-packages (from patsy>=0.4.1->category_encoders) (1.12.0)\n",
      "Requirement already satisfied: python-dateutil>=2.5.0 in c:\\users\\natal\\anaconda3\\lib\\site-packages (from pandas>=0.20.1->category_encoders) (2.7.5)\n",
      "Requirement already satisfied: pytz>=2011k in c:\\users\\natal\\anaconda3\\lib\\site-packages (from pandas>=0.20.1->category_encoders) (2018.7)\n"
     ]
    }
   ],
   "source": [
    "!pip install numpy\n",
    "!pip install pandas\n",
    "!pip install scikit-learn\n",
    "!pip install matplotlib\n",
    "!pip install seaborn\n",
    "!pip install category_encoders"
   ]
  },
  {
   "cell_type": "markdown",
   "metadata": {},
   "source": [
    "## Import Libraries"
   ]
  },
  {
   "cell_type": "code",
   "execution_count": 2,
   "metadata": {},
   "outputs": [],
   "source": [
    "import pandas as pd\n",
    "import numpy as np\n",
    "import seaborn as sns\n",
    "import os\n",
    "import category_encoders as ce\n",
    "import statistics\n",
    "import matplotlib.pyplot as plt\n",
    "%matplotlib inline\n",
    "\n",
    "from random import randint\n",
    "from numpy import linalg\n",
    "from numpy.linalg import norm\n",
    "\n",
    "from sklearn.model_selection import train_test_split\n",
    "from sklearn.model_selection import learning_curve\n",
    "from sklearn.model_selection import GridSearchCV, KFold\n",
    "from sklearn.feature_extraction.text import CountVectorizer\n",
    "from sklearn import linear_model\n",
    "from sklearn.feature_selection import RFE\n",
    "from sklearn.ensemble import RandomForestRegressor\n",
    "from sklearn.ensemble import GradientBoostingRegressor\n",
    "from sklearn.metrics import make_scorer, r2_score, mean_squared_error, auc, mean_absolute_error\n",
    "from sklearn.metrics import accuracy_score, confusion_matrix\n",
    "from sklearn.svm import SVR\n",
    "from sklearn import neighbors\n",
    "\n",
    "from sklearn.exceptions import ConvergenceWarning\n",
    "from sklearn.preprocessing import StandardScaler\n",
    "\n",
    "from sklearn.neural_network import MLPRegressor\n",
    "\n",
    "import statsmodels.formula.api as sf\n",
    "cur_dir = os.getcwd()"
   ]
  },
  {
   "cell_type": "markdown",
   "metadata": {},
   "source": [
    "## Import the dataset"
   ]
  },
  {
   "cell_type": "code",
   "execution_count": 3,
   "metadata": {},
   "outputs": [
    {
     "name": "stderr",
     "output_type": "stream",
     "text": [
      "C:\\Users\\natal\\Anaconda3\\lib\\site-packages\\IPython\\core\\interactiveshell.py:3020: DtypeWarning: Columns (209,323,372,385,394) have mixed types. Specify dtype option on import or set low_memory=False.\n",
      "  interactivity=interactivity, compiler=compiler, result=result)\n"
     ]
    }
   ],
   "source": [
    "Salaries = pd.read_csv('kaggle_salary.csv', header=0, skiprows=[1])"
   ]
  },
  {
   "cell_type": "markdown",
   "metadata": {},
   "source": [
    "I will be removing several columns that are not important to the regression analysis to determine Salary. Several of the columns are for \"OTHER_TEXT\". These columns are where the respondent typed in their own answer if they chose \"other\", however instead of text, this column just gives sequential numbers. These numbers don't give any information or add anything to the analysis so they can be removed. Additionally, Q18, \"What programming language would you recommend an aspiring data scientist to learn first? - Selected Choice\", has nothing to do with the respondent's salary so it can be removed."
   ]
  },
  {
   "cell_type": "code",
   "execution_count": 4,
   "metadata": {},
   "outputs": [],
   "source": [
    "drop_col = ['Unnamed: 0', 'Q1_OTHER_TEXT', 'Q6_OTHER_TEXT', 'Q7_OTHER_TEXT', 'Q11_OTHER_TEXT', 'Q12_MULTIPLE_CHOICE',\n",
    "            'Q13_OTHER_TEXT', 'Q14_OTHER_TEXT', 'Q15_OTHER_TEXT', 'Q16_OTHER_TEXT', 'Q17_OTHER_TEXT', 'Q18',\n",
    "            'Q18_OTHER_TEXT', 'Q19_OTHER_TEXT', 'Q20_OTHER_TEXT', 'Q21_OTHER_TEXT', 'Q22_OTHER_TEXT', 'Q27_OTHER_TEXT', \n",
    "            'Q28_OTHER_TEXT', 'Q29_OTHER_TEXT', 'Q30_OTHER_TEXT', 'Q31_OTHER_TEXT', 'Q33_OTHER_TEXT', 'Q34_OTHER_TEXT', \n",
    "            'Q35_OTHER_TEXT', 'Q36_OTHER_TEXT', 'Q37_OTHER_TEXT', 'Q38_OTHER_TEXT', 'Q42_OTHER_TEXT', 'Q49_OTHER_TEXT', \n",
    "            'Q50_OTHER_TEXT', 'index']\n",
    "\n",
    "Salaries.drop(drop_col, axis=1, inplace=True)\n",
    "\n",
    "Salaries.rename(columns={'Time from Start to Finish (seconds)' : 'duration',\n",
    "                          'Q1':'gender',\n",
    "                          'Q2':'age',\n",
    "                          'Q3':'country',\n",
    "                          'Q4' : 'education',\n",
    "                          'Q5' : 'major',\n",
    "                          'Q6' : 'title',\n",
    "                          'Q7' : 'industry',\n",
    "                          'Q8' : 'experience',\n",
    "                          'Q9' : 'salary'}, \n",
    "                 inplace=True)"
   ]
  },
  {
   "cell_type": "code",
   "execution_count": 5,
   "metadata": {},
   "outputs": [
    {
     "data": {
      "text/plain": [
       "(15429, 365)"
      ]
     },
     "execution_count": 5,
     "metadata": {},
     "output_type": "execute_result"
    }
   ],
   "source": [
    "Salaries.shape"
   ]
  },
  {
   "cell_type": "markdown",
   "metadata": {},
   "source": [
    "## 1. Data Cleaning \n",
    "### Row and Column Elimination\n",
    "\n",
    "The duration for each row indicates how long the respondent spent answering the Kaggle Survey in seconds. Since it is a fairly lengthy survey, respondents who took less than around 8 minutes to take the survey were dropped. These respondents had several missing values because the respondent most likely did not answer all of the questions, and did not give sufficient time to think about their answers. Additionally, respondents who took longer than 5 hours were dropped. Most likely the respondent started the survey, then forgot to continue the survey. Once this was done, the duration column was dropped because the length of time it takes a respondent to complete the survey is not related to their Salary, so it is no longer needed.\n",
    "\n",
    "I also dropped respondents who were 80 years old or older. This was a very small number of respondents, and did not seem very realistic, or like these respondents would give very meaningful data."
   ]
  },
  {
   "cell_type": "code",
   "execution_count": 6,
   "metadata": {},
   "outputs": [],
   "source": [
    "# Drop respondents who took less than 500 seconds to answer the survey\n",
    "duration_LB = Salaries[Salaries.duration.astype(int) <= 500].index\n",
    "Salaries = Salaries.drop(duration_LB, axis=0)\n",
    "\n",
    "# Drop respondents who took more than 18000 seconds to answer the survey\n",
    "duration_UB = Salaries[Salaries.duration.astype(int) >= 18000].index\n",
    "Salaries = Salaries.drop(duration_UB, axis=0)\n",
    "\n",
    "# Drop duration - this column is no longer needed because Salary is not dependent on survey duration\n",
    "Salaries = Salaries.drop(['duration'], axis=1)\n",
    "\n",
    "# Drop respondents whose age is 80+ - does not seem realistic that there are 80+ year olds in data science field\n",
    "old = Salaries[Salaries.age == '80+'].index\n",
    "Salaries = Salaries.drop(old, axis=0)\n",
    "\n",
    "Salaries.reset_index(drop=True, inplace=True)"
   ]
  },
  {
   "cell_type": "markdown",
   "metadata": {},
   "source": [
    "I defined a row and column threshold equal to 10% of the total number of columns and rows respectively. This 10% is the minimum amount of data that must be present in the row/column. This would drop rows with 90% of the columns empty, meaning the respondent did not answer most of the questions, and columns with 90% of the rows empty, meaning 90% of respondents did not answer the question, or select that multiple choice option. "
   ]
  },
  {
   "cell_type": "code",
   "execution_count": 7,
   "metadata": {},
   "outputs": [],
   "source": [
    "# Eliminate rows that are 90% empty\n",
    "row_thresh = round(0.1*len(Salaries.columns))\n",
    "\n",
    "# Eliminate columns that are 90% empty \n",
    "col_thresh = round(0.1*len(Salaries.index))\n",
    "\n",
    "# Drop rows and columns that are 90% empty\n",
    "Salaries.dropna(axis=0, how='any', thresh=row_thresh, subset=None, inplace=True)\n",
    "Salaries.dropna(axis=1, how='any', thresh=col_thresh, subset=None, inplace=True)"
   ]
  },
  {
   "cell_type": "code",
   "execution_count": 8,
   "metadata": {},
   "outputs": [
    {
     "data": {
      "text/plain": [
       "(11410, 182)"
      ]
     },
     "execution_count": 8,
     "metadata": {},
     "output_type": "execute_result"
    }
   ],
   "source": [
    "Salaries.shape"
   ]
  },
  {
   "cell_type": "markdown",
   "metadata": {},
   "source": [
    "Since students make low income and do not have much experience, it introduced bias into the results. If we want to analyze salaries for a data scientist, it makes sense to drop respondents who are students and have not entered the workforce yet.\n",
    "\n",
    "Additionally, most of the missing values for experience are because the respondent is a student or just started their career. Since there are very few of these, it is safe  to drop these respondents from the analysis. "
   ]
  },
  {
   "cell_type": "code",
   "execution_count": 9,
   "metadata": {},
   "outputs": [],
   "source": [
    "# Drop students\n",
    "students = Salaries[Salaries['industry'] == 'I am a student'].index\n",
    "Salaries = Salaries.drop(students, axis=0)\n",
    "\n",
    "students2 = Salaries[Salaries['title'] == 'Student'].index\n",
    "Salaries = Salaries.drop(students2, axis=0)\n",
    "\n",
    "# Drop rows with missing experience values\n",
    "Salaries = Salaries.dropna(subset=['experience'])"
   ]
  },
  {
   "cell_type": "markdown",
   "metadata": {},
   "source": [
    "Country is a very important factor in determining Salary. Additionally, I want to engineer a new feature by converting country to a numerical value, Gross Domestic Product (GDP) per capita. Therefore, the country categories 'I do not wish to disclose my location' and 'Other' were dropped. "
   ]
  },
  {
   "cell_type": "code",
   "execution_count": 10,
   "metadata": {},
   "outputs": [],
   "source": [
    "country_drop = Salaries[Salaries['country'] == 'I do not wish to disclose my location'].index\n",
    "Salaries = Salaries.drop(country_drop, axis=0)\n",
    "\n",
    "country_drop2 = Salaries[Salaries['country'] == 'Other'].index\n",
    "Salaries = Salaries.drop(country_drop2, axis=0)"
   ]
  },
  {
   "cell_type": "markdown",
   "metadata": {},
   "source": [
    "Next, drop countries who have 35 or less respondents. Only 35 respondents per country, does not give very good insight into the skills required, job titles, education needed to have a higher salary. Also, the combined number of respondents for these countries is under 5% of the total number of respondents. Therefore, removing these countries will have little to no effect on the analysis. "
   ]
  },
  {
   "cell_type": "code",
   "execution_count": 11,
   "metadata": {},
   "outputs": [
    {
     "name": "stdout",
     "output_type": "stream",
     "text": [
      "4.01%\n"
     ]
    }
   ],
   "source": [
    "country_count = Salaries.country.value_counts()\n",
    "small_country = Salaries.country.isin(country_count.index[country_count <= 35])\n",
    "small_country_index = Salaries.loc[small_country].index\n",
    "Salaries = Salaries.drop(small_country_index, axis=0)\n",
    "Salaries.reset_index(drop=True, inplace=True)\n",
    "\n",
    "print(str(round((len(small_country_index)/len(Salaries))*100, 2)) + \"%\")"
   ]
  },
  {
   "cell_type": "markdown",
   "metadata": {},
   "source": [
    "### Dealing with missing values"
   ]
  },
  {
   "cell_type": "markdown",
   "metadata": {},
   "source": [
    "All of the missing values for major are because the respondent has no formal education past high school. Therefore, it does not make sense to fill these missing values with the mode, or with \"other\". In this case, I will put 0 as the major. The regression will effectively skip over this category for these respondents. "
   ]
  },
  {
   "cell_type": "code",
   "execution_count": 12,
   "metadata": {},
   "outputs": [],
   "source": [
    "# Fill missing values for major with 0\n",
    "Salaries['major'].fillna(value=0, inplace=True)"
   ]
  },
  {
   "cell_type": "markdown",
   "metadata": {},
   "source": [
    "Several questions are dependent on previous questions answered. Therefore, the missing values for these questions can be found using the modes of the reference question.\n",
    "For example, Q20 - Of the choices that you selected in the previous question, which ML library have you used the most? \n",
    "Reference: Q19 - What machine learning frameworks have you used in the past 5 years? \n",
    "\n",
    "Basics of how the fill_na_mode functions works:\n",
    "\n",
    "1. Create a list of columns from the reference question defined by Qref. Each column represents each part of the question. Example Q19_PART1 would be the first column for Q19.\n",
    "2. the response choice for each question part is found and put in the variable 'option'. In the example, for Q19_Part1 the option selected would be 'Scikit-Learn'\n",
    "3. The mode for the Q20 answers is found for each response choice. Example, respondents who chose 'Scikit-Learn' as one of their ML frameworks used in the last 5 years, were most likely to choose 'Scikit-Learn' as their ML library used the most for Q20.\n",
    "4. If the Qref question is still empty, this means the respondent did not give an answer for any parts of the reference question, therefore the value for the column was set to 0.\n",
    "\n",
    "If Qfill and Qref are the same, then the NaNs are simply filled with the mode of the specified column, effectively referencing itself to fill missing values."
   ]
  },
  {
   "cell_type": "code",
   "execution_count": 13,
   "metadata": {},
   "outputs": [],
   "source": [
    "def fill_na_mode(Qfill, Qref):\n",
    "    \n",
    "    '''Qfill is the question with NaNs that need to be filled. Qref is the question that youre using to base the mode off'''\n",
    "    \n",
    "    if Qfill == Qref:\n",
    "        option_mode = Salaries[Qfill].mode()[0]\n",
    "        Salaries[Qfill].fillna(option_mode, inplace=True)\n",
    "    \n",
    "    else:\n",
    "        Salaries[Qfill].fillna(value='empty', inplace=True) \n",
    "        Q_col_list = []\n",
    "        for index in Salaries.columns:\n",
    "            if index.startswith(Qref) == True:\n",
    "                Q_col_list.append(index)\n",
    "        \n",
    "        for col in Q_col_list:\n",
    "            labels = Salaries[col].astype('category').cat.categories.tolist()\n",
    "            option_mode = Salaries[Qfill].loc[Salaries[col] == labels[0]].mode()[0]\n",
    "            \n",
    "            replaced_rows =[]\n",
    "            for row in Salaries[Qfill].loc[Salaries[col] == labels[0]]:\n",
    "                row = row.replace('empty', option_mode)\n",
    "                replaced_rows.append(row)\n",
    "            \n",
    "            Salaries[Qfill].loc[Salaries[col] == labels[0]] = replaced_rows\n",
    "        \n",
    "        Salaries[Qfill].replace('empty', 0, inplace=True)"
   ]
  },
  {
   "cell_type": "markdown",
   "metadata": {},
   "source": [
    "Q17 - What specific programming language do you use most often? \n",
    "reference: Q16 - What programming languages do you use on a regular basis? \n",
    "\n",
    "Q26 - Do you consider yourself to be a data scientist? \n",
    "reference: job title "
   ]
  },
  {
   "cell_type": "code",
   "execution_count": 14,
   "metadata": {},
   "outputs": [
    {
     "name": "stderr",
     "output_type": "stream",
     "text": [
      "C:\\Users\\natal\\Anaconda3\\lib\\site-packages\\pandas\\core\\indexing.py:189: SettingWithCopyWarning: \n",
      "A value is trying to be set on a copy of a slice from a DataFrame\n",
      "\n",
      "See the caveats in the documentation: http://pandas.pydata.org/pandas-docs/stable/indexing.html#indexing-view-versus-copy\n",
      "  self._setitem_with_indexer(indexer, value)\n"
     ]
    }
   ],
   "source": [
    "fill_na_mode(Qfill='Q17', Qref='Q16')\n",
    "fill_na_mode(Qfill='Q20', Qref='Q19')\n",
    "fill_na_mode(Qfill='Q22', Qref='Q21')\n",
    "fill_na_mode(Qfill='Q26', Qref='title')\n",
    "fill_na_mode(Qfill='Q32', Qref='Q31')\n",
    "fill_na_mode(Qfill='Q37', Qref='Q36')\n",
    "fill_na_mode(Qfill='Q46', Qref='Q45')\n",
    "\n",
    "# fill NaNs for Q23, Q24, Q25, Q26, Q48 using the mode\n",
    "fill_na_mode(Qfill='Q23', Qref='Q23')\n",
    "fill_na_mode(Qfill='Q24', Qref='Q24')\n",
    "fill_na_mode(Qfill='Q25', Qref='Q25')\n",
    "fill_na_mode(Qfill='Q26', Qref='Q26')\n",
    "\n",
    "#fill_na_mode(Qfill='Q43', Qref='Q42')\n",
    "fill_na_mode(Qfill='Q48', Qref='Q28')\n",
    "\n",
    "fill_na_mode(Qfill='Q39_Part_1', Qref='Q39_Part_1')\n",
    "fill_na_mode(Qfill='Q39_Part_2', Qref='Q39_Part_2')\n",
    "fill_na_mode(Qfill='Q40', Qref='Q40')\n",
    "fill_na_mode(Qfill='Q41_Part_1', Qref='Q41_Part_1')\n",
    "fill_na_mode(Qfill='Q41_Part_2', Qref='Q41_Part_2')\n",
    "fill_na_mode(Qfill='Q41_Part_3', Qref='Q41_Part_3')"
   ]
  },
  {
   "cell_type": "markdown",
   "metadata": {},
   "source": [
    "When metrics that consider unfair bias are used to determine success, then 0-10% and 10-20% of data projects involve exploring unfair bias in the dataset and/or algorithm. 0-10 and 10-20 value counts are almost even. Therefore, for Q43, I will use a value of 10 for the NaNs thats used this answer on Q42 Part 3"
   ]
  },
  {
   "cell_type": "code",
   "execution_count": 15,
   "metadata": {},
   "outputs": [],
   "source": [
    "#Q42 Part3 and Q43 are asking about unfair bias. \n",
    "Salaries['Q43'].loc[Salaries['Q42_Part_3'] == 'Metrics that consider unfair bias'].fillna(value=10, inplace=True)\n",
    "# Fill the remaining NaNs with the mode\n",
    "fill_na_mode(Qfill='Q43', Qref='Q43')"
   ]
  },
  {
   "cell_type": "markdown",
   "metadata": {},
   "source": [
    "Q34 is asking the respondent to approximate the percentage of their time devoted to different data science tasks, and Q35 is asking the respondent to approximate what percentage of their current ML/data science trainining falls under different categories. The response for each question must sum to 100%, therefore it makes sense to fill the NaNs with the mean value for each column of each question.\n",
    "\n",
    "First, I found the mean value for each column of the question, then I added them all up to see if it equaled 100%. For Q35, the means added to 100% however for Q34 they did not."
   ]
  },
  {
   "cell_type": "code",
   "execution_count": 16,
   "metadata": {},
   "outputs": [
    {
     "name": "stdout",
     "output_type": "stream",
     "text": [
      "Q34_Part_1:\n",
      "the mean value is 17\n",
      "Q34_Part_2:\n",
      "the mean value is 24\n",
      "Q34_Part_3:\n",
      "the mean value is 13\n",
      "Q34_Part_4:\n",
      "the mean value is 20\n",
      "Q34_Part_5:\n",
      "the mean value is 9\n",
      "Q34_Part_6:\n",
      "the mean value is 12\n",
      "the total is 95\n",
      "\n",
      "\n",
      "Q35_Part_1:\n",
      "the mean value is 29\n",
      "Q35_Part_2:\n",
      "the mean value is 25\n",
      "Q35_Part_3:\n",
      "the mean value is 21\n",
      "Q35_Part_4:\n",
      "the mean value is 15\n",
      "Q35_Part_5:\n",
      "the mean value is 8\n",
      "Q35_Part_6:\n",
      "the mean value is 2\n",
      "the total is 100\n"
     ]
    }
   ],
   "source": [
    "Q34 = []\n",
    "for index in Salaries.columns:\n",
    "    if index.startswith('Q34') == True:\n",
    "        Q34.append(index)\n",
    "\n",
    "Q35 = []\n",
    "for index in Salaries.columns:\n",
    "    if index.startswith('Q35') == True:\n",
    "        Q35.append(index)\n",
    "\n",
    "total34 = 0\n",
    "for q in Q34:\n",
    "    print(q + ':')\n",
    "    print('the mean value is '+ str(round(Salaries[q].mean())))\n",
    "    total34 += round(Salaries[q].mean())\n",
    "    \n",
    "print('the total is ' + str(total34))\n",
    "print('\\n')\n",
    "\n",
    "total = 0\n",
    "for q in Q35:\n",
    "    print(q + ':')\n",
    "    print('the mean value is '+ str(round(Salaries[q].mean())))\n",
    "    total += round(Salaries[q].mean())\n",
    "    \n",
    "print('the total is ' + str(total))"
   ]
  },
  {
   "cell_type": "markdown",
   "metadata": {},
   "source": [
    "Since Q34 did not add to 100%, I compared the mean values to the mode and added extra points where it made sense and replaced the NaNs with the custom mean values. \n",
    "\n",
    "For Q35, the mode was 0 for the last question, so it made sense to change the mean value from 2 to 0 and add the 2 points to the second last question, changing it from 8% to an even 10%. "
   ]
  },
  {
   "cell_type": "code",
   "execution_count": 17,
   "metadata": {},
   "outputs": [],
   "source": [
    "# Set the NaNs to the mean of each column\n",
    "# Since Q34 means did not add up to 100, I changed some of the numbers to be filled\n",
    "Salaries['Q34_Part_1'].fillna(20, inplace=True)\n",
    "Salaries['Q34_Part_2'].fillna(25, inplace=True)\n",
    "Salaries['Q34_Part_3'].fillna(13, inplace=True)\n",
    "Salaries['Q34_Part_4'].fillna(20, inplace=True)\n",
    "Salaries['Q34_Part_5'].fillna(10, inplace=True)\n",
    "Salaries['Q34_Part_6'].fillna(12, inplace=True)\n",
    "\n",
    "Salaries['Q35_Part_1'].fillna(round(Salaries['Q34_Part_1'].mean()), inplace=True)\n",
    "Salaries['Q35_Part_2'].fillna(round(Salaries['Q34_Part_1'].mean()), inplace=True)\n",
    "Salaries['Q35_Part_3'].fillna(round(Salaries['Q34_Part_1'].mean()), inplace=True)\n",
    "Salaries['Q35_Part_4'].fillna(round(Salaries['Q34_Part_1'].mean()), inplace=True)\n",
    "Salaries['Q35_Part_5'].fillna(10, inplace=True)\n",
    "Salaries['Q35_Part_6'].fillna(0, inplace=True)"
   ]
  },
  {
   "cell_type": "markdown",
   "metadata": {},
   "source": [
    "## Encoding Techniques\n",
    "### Replace Encoding\n",
    "#### Converting bins to numerical\n",
    "\n",
    "For the columns with bin labels, I am using the same method to convert these ranges into a single number, as was used for the salary in the SalaryKaggle-DataSet jupyter notebook provided.\n",
    "\n",
    "##### Pros:\n",
    "- Uses less columns compared to splitting up each range into a column and assigning a 1 or 0 (one-hot encoding)\n",
    "- numerical value assigned to each respondent is random so there is no bias.\n",
    "\n",
    "##### Cons:\n",
    "- May give more weight to the respondents who are assigned a value equal to the upper bound of the given range"
   ]
  },
  {
   "cell_type": "code",
   "execution_count": 18,
   "metadata": {},
   "outputs": [],
   "source": [
    "def convert_age(arange):\n",
    "    arange = str(arange)\n",
    "    if arange == '18-21':\n",
    "        age = randint(18,21)\n",
    "    elif arange == '22-24':\n",
    "        age = randint(22,24)\n",
    "    elif arange == '25-29':\n",
    "        age = randint(25,29)\n",
    "    elif arange == '30-34':\n",
    "        age = randint(30,34)\n",
    "    elif arange == '35-39':\n",
    "        age = randint(35,39)\n",
    "    elif arange == '40-44':\n",
    "        age = randint(40,44)\n",
    "    elif arange == '45-49':\n",
    "        age = randint(45,49)\n",
    "    elif arange == '50-54':\n",
    "        age = randint(50,54)\n",
    "    elif arange == '55-59':\n",
    "        age = randint(55,59)\n",
    "    elif arange == '60-69':\n",
    "        age = randint(60,69)\n",
    "    elif arange == '70-79':\n",
    "        age = randint(70,79)  \n",
    "    return age"
   ]
  },
  {
   "cell_type": "code",
   "execution_count": 19,
   "metadata": {},
   "outputs": [],
   "source": [
    "def convert_Q23(Q23range):\n",
    "    Q23range = str(Q23range)\n",
    "    if Q23range == '0% of my time':\n",
    "        Q23 = 0\n",
    "    elif Q23range == '1% to 25% of my time':\n",
    "        Q23 = randint(1,25)\n",
    "    elif Q23range == '25% to 49% of my time':\n",
    "        Q23 = randint(25,49) \n",
    "    elif Q23range == '50% to 74% of my time':\n",
    "        Q23 = randint(50,74)\n",
    "    elif Q23range == '75% to 99% of my time':\n",
    "        Q23 = randint(75,99)\n",
    "    elif Q23range == '100% of my time':\n",
    "        Q23 = 100\n",
    "    return Q23"
   ]
  },
  {
   "cell_type": "code",
   "execution_count": 20,
   "metadata": {},
   "outputs": [],
   "source": [
    "def convert_Q24(Q24range):\n",
    "    Q24range = str(Q24range)\n",
    "    if Q24range == '< 1 year':\n",
    "        Q24 = 1\n",
    "    elif Q24range == '1-2 years':\n",
    "        Q24 = 1.5\n",
    "    elif Q24range == '3-5 years':\n",
    "        Q24 = randint(3,5) \n",
    "    elif Q24range == '5-10 years':\n",
    "        Q24 = randint(5,10) \n",
    "    elif Q24range == '10-20 years':\n",
    "        Q24 = randint(10,20) \n",
    "    elif Q24range == '20-30 years':\n",
    "        Q24 = randint(20,30)\n",
    "    elif Q24range == '30-40 years':\n",
    "        Q24 = randint(30,40)\n",
    "    elif Q24range == '40+ years':\n",
    "        Q24 = 45\n",
    "    elif Q24range == 'I have never written code and I do not want to learn':\n",
    "        Q24 = 0  \n",
    "    elif Q24range == 'I have never written code but I want to learn':\n",
    "        Q24 = 0.5\n",
    "    return Q24"
   ]
  },
  {
   "cell_type": "code",
   "execution_count": 21,
   "metadata": {},
   "outputs": [],
   "source": [
    "def convert_Q25(Q25range):\n",
    "    Q25range = str(Q25range)\n",
    "    if Q25range == '< 1 year':\n",
    "        Q25 = 1\n",
    "    elif Q25range == '1-2 years':\n",
    "        Q25 = randint(1,2)\n",
    "    elif Q25range == '2-3 years':\n",
    "        Q25 = randint(2,3)\n",
    "    elif Q25range == '3-4 years':\n",
    "        Q25 = randint(3,4) \n",
    "    elif Q25range == '4-5 years':\n",
    "        Q25 = randint(4,5) \n",
    "    elif Q25range == '5-10 years':\n",
    "        Q25 = randint(5,10) \n",
    "    elif Q25range == '10-15 years':\n",
    "        Q25 = randint(10,15) \n",
    "    elif Q25range == '20+ years':\n",
    "        Q25 = randint(20,30)\n",
    "    elif Q25range == 'I have never studied machine learning and I do not plan to':\n",
    "        Q25 = 0  \n",
    "    elif Q25range == 'I have never studied machine learning but plan to learn in the future':\n",
    "        Q25 = 0.5\n",
    "    return Q25"
   ]
  },
  {
   "cell_type": "code",
   "execution_count": 22,
   "metadata": {},
   "outputs": [],
   "source": [
    "def convert_percent(percentrange):\n",
    "    percentrange = str(percentrange)\n",
    "    if percentrange == '0':\n",
    "        percentage = 0\n",
    "    elif percentrange == '0-10':\n",
    "        percentage = randint(0,10)\n",
    "    elif percentrange == '10-20':\n",
    "        percentage = randint(10,20)\n",
    "    elif percentrange == '20-30':\n",
    "        percentage = randint(20,30)\n",
    "    elif percentrange == '30-40':\n",
    "        percentage = randint(30,40)\n",
    "    elif percentrange == '40-50':\n",
    "        percentage = randint(40,50)\n",
    "    elif percentrange == '50-60':\n",
    "        percentage = randint(50,60)\n",
    "    elif percentrange == '60-70':\n",
    "        percentage = randint(60,70)\n",
    "    elif percentrange == '70-80':\n",
    "        percentage = randint(70,80)\n",
    "    elif percentrange == '80-90':\n",
    "        percentage = randint(80,90)\n",
    "    elif percentrange == '90-100':\n",
    "        percentage = randint(90,100)\n",
    "    return percentage"
   ]
  },
  {
   "cell_type": "code",
   "execution_count": 23,
   "metadata": {},
   "outputs": [],
   "source": [
    "# Apply the above functions using apply on the relevant columns\n",
    "Salaries.loc[0:,'age'] = Salaries.loc[0:,'age'].apply(convert_age)\n",
    "Salaries.loc[0:,'Q23'] = Salaries.loc[0:,'Q23'].apply(convert_Q23)\n",
    "Salaries.loc[0:,'Q24'] = Salaries.loc[0:,'Q24'].apply(convert_Q24)\n",
    "Salaries.loc[0:,'Q25'] = Salaries.loc[0:,'Q25'].apply(convert_Q25)\n",
    "Salaries.loc[0:,'Q43'] = Salaries.loc[0:,'Q43'].apply(convert_percent)\n",
    "Salaries.loc[0:,'Q46'] = Salaries.loc[0:,'Q46'].apply(convert_percent)"
   ]
  },
  {
   "cell_type": "code",
   "execution_count": 24,
   "metadata": {},
   "outputs": [],
   "source": [
    "# Make a copy of the Salaries dataset before encoding\n",
    "Salaries_orig = Salaries.copy()"
   ]
  },
  {
   "cell_type": "markdown",
   "metadata": {},
   "source": [
    "### Dictionary to convert categorical to numerical\n",
    "\n",
    "I defined a dictionary Q_dict with the main keys being the columns, then for each key there is a sub dictionary where each key is the categorical response and each value is a numerical value that I chose. For these values, I ranked the responses as how I perceived they may have an affect on salary. For example, when a question was answered with 'I do not know' the value was given 0 because this is effectively a non answer and so the question they are answering will have no factor on how high their salary is. \n",
    "\n",
    "For country, I used each country as the key and the normalized value count rounded to 3 decimal places as the value. \n",
    "\n",
    "##### Pros:\n",
    "- assigns more weight to better responses given by the respondent\n",
    "- easy to understand and interpret encoding\n",
    "\n",
    "##### Cons:\n",
    "- some bias is introduced, as the numerical values are user defined"
   ]
  },
  {
   "cell_type": "code",
   "execution_count": 25,
   "metadata": {},
   "outputs": [],
   "source": [
    "# Dictionary for country that finds the total normalized value count of each country and rounds it to 3 decimal places\n",
    "country_dict = dict(round(Salaries.country.value_counts(1), 3))"
   ]
  },
  {
   "cell_type": "code",
   "execution_count": 26,
   "metadata": {},
   "outputs": [],
   "source": [
    "Salaries['GDP per capita'] = Salaries['country']"
   ]
  },
  {
   "cell_type": "code",
   "execution_count": 27,
   "metadata": {},
   "outputs": [],
   "source": [
    "Q_dict = {'experience': {'0-1': 0.5, '1-2': 1.5, '2-3': 3.5, '3-4': 3.5, '4-5': 4.5, '5-10': 7.5, '10-15': 12.5, \n",
    "                            '15-20': 17.5, '20-25': 22.5, '25-30': 27.5, '30 +': 35\n",
    "                        },\n",
    "          'education': {'Doctoral degree': 6, 'Master’s degree': 5, 'Bachelor’s degree': 4, 'Professional degree': 3,\n",
    "                        'Some college/university study without earning a bachelor’s degree': 2,\n",
    "                        'No formal education past high school': 1, 'I prefer not to answer': 0\n",
    "                       },\n",
    "          'country': country_dict,\n",
    "          'Q10': {'I do not know': 0, 'No (we do not use ML methods)': 1,\n",
    "                  'We are exploring ML methods (and may one day put a model into production)': 2,\n",
    "                  'We use ML methods for generating insights (but do not put working models into production)': 3,\n",
    "                  'We recently started using ML methods (i.e., models in production for less than 2 years)': 4,\n",
    "                  'We have well established ML methods (i.e., models in production for more than 2 years)': 5\n",
    "                 },\n",
    "          'Q26': {'Definitely not': 1, 'Probably not': 2, 'Maybe': 3, 'Probably yes': 4, 'Definitely yes': 5\n",
    "                 },\n",
    "          'Q48': {'I do not know; I have no opinion on the matter': 0, 'Yes, most ML models are \"black boxes\"': 1,\n",
    "                  'I view ML models as \"black boxes\" but I am confident that experts are able to explain model outputs': 2,\n",
    "                  'I am confident that I can understand and explain the outputs of many but not all ML models': 3,\n",
    "                  'I am confident that I can explain the outputs of most if not all ML models': 4\n",
    "                 },\n",
    "          'Q39_Part_1': {'No opinion; I do not know': 0, 'Much worse': 1, 'Slightly worse': 2,\n",
    "                        'Neither better nor worse': 3, 'Slightly better': 4, 'Much better': 5\n",
    "                        },\n",
    "          'Q39_Part_2': {'No opinion; I do not know': 0, 'Much worse': 1, 'Slightly worse': 2,\n",
    "                        'Neither better nor worse': 3, 'Slightly better': 4, 'Much better': 5\n",
    "                        },\n",
    "          'Q41_Part_1': {'No opinion; I do not know': 0, 'Not at all important': 1, 'Slightly important': 2,\n",
    "                        'Very important': 3\n",
    "                        },\n",
    "          'Q41_Part_2': {'No opinion; I do not know': 0, 'Not at all important': 1, 'Slightly important': 2,\n",
    "                        'Very important': 3\n",
    "                        },\n",
    "          'Q41_Part_3': {'No opinion; I do not know': 0, 'Not at all important': 1, 'Slightly important': 2,\n",
    "                        'Very important': 3\n",
    "                        }\n",
    "            }"
   ]
  },
  {
   "cell_type": "code",
   "execution_count": 28,
   "metadata": {},
   "outputs": [],
   "source": [
    "Salaries.replace(Q_dict, inplace=True)"
   ]
  },
  {
   "cell_type": "markdown",
   "metadata": {},
   "source": [
    "Another way to convert country into a numerical value is to use each country's Gross Domestic Product (GDP) per capita because historically, the higher the GDP of a country, the higher the average Salary of its population. This is an example of feature engineering which will be further discussed later.\n",
    "\n",
    "Source: http://worldpopulationreview.com/countries/countries-by-gdp/\n",
    "\n",
    "##### Pros:\n",
    "- gives a higher salary ranking to respondents in developed countries\n",
    "- GDP per capita takes in to account population size whereas GDP does not\n",
    "\n",
    "##### Cons:\n",
    "- highly biased towards developed countries\n",
    "- may be too highly correlated to salary and could possibly skew results"
   ]
  },
  {
   "cell_type": "code",
   "execution_count": 29,
   "metadata": {},
   "outputs": [],
   "source": [
    "GDP_dict = {'United States of America': 65058, 'India': 2305, 'Russia': 12191, \n",
    "            'United Kingdom of Great Britain and Northern Ireland': 45141, 'Brazil': 10626, 'Germany': 53577, \n",
    "            'China': 10946, 'Canada': 51195, 'France': 46732, 'Japan': 42271, 'Spain': 34105, 'Australia': 63052, \n",
    "            'Italy': 38190, 'Poland': 17092, 'Netherlands': 58062, 'Turkey': 11592, 'Ukraine': 2893, 'Mexico': 9711, \n",
    "            'Sweden': 62548, 'Israel': 45510, 'Singapore': 62675, 'South Africa': 6662, 'Portugal': 25389, \n",
    "            'Switzerland': 90532, 'Colombia': 6961, 'Argentina': 14627, 'Nigeria': 2366, 'South Korea': 34626, \n",
    "            'Indonesia': 4277, 'Viet Nam': 2719, 'Pakistan': 1381, 'Denmark': 66907, 'Belgium': 50827, 'Greece': 21199, \n",
    "            'Ireland': 84426, 'Hungary': 17900, 'Norway': 85204, 'Finland': 54687, 'Malaysia': 12405, 'Chile': 16134, \n",
    "            'Romania': 13615, 'Belarus': 6521, 'New Zealand': 49104\n",
    "           }"
   ]
  },
  {
   "cell_type": "code",
   "execution_count": 30,
   "metadata": {},
   "outputs": [],
   "source": [
    "Salaries['GDP per capita'].replace(GDP_dict, inplace=True)"
   ]
  },
  {
   "cell_type": "markdown",
   "metadata": {},
   "source": [
    "### One-hot Encoding\n",
    "\n",
    "This encoding method creates a new column for each label and then assigns a dummy variable, either 0 or 1, to the row. This type of encoding is useful when there are only a few labels for the category.\n",
    "\n",
    "For example, gender is a neutral label when it comes to salary, so we do not want to use label encoding. Therefore, one-hot encoding is the most appropriate.\n",
    "\n",
    "##### Pros:\n",
    "- fast\n",
    "- very easy to implement\n",
    "- only assigns 1 or 0, so it does not give weight to specific labels\n",
    "\n",
    "##### Cons:\n",
    "- creates more columns \n",
    "- higher number of features for the regression algorithms to handle"
   ]
  },
  {
   "cell_type": "code",
   "execution_count": 31,
   "metadata": {},
   "outputs": [],
   "source": [
    "Salaries = pd.get_dummies(Salaries, columns=['gender', 'Q17', 'Q20', 'Q22', 'Q32', 'Q37'], \n",
    "                                 prefix = ['gender','Q17', 'Q20', 'Q22', 'Q32', 'Q37'])"
   ]
  },
  {
   "cell_type": "code",
   "execution_count": 32,
   "metadata": {},
   "outputs": [
    {
     "data": {
      "text/plain": [
       "(8576, 257)"
      ]
     },
     "execution_count": 32,
     "metadata": {},
     "output_type": "execute_result"
    }
   ],
   "source": [
    "Salaries.shape"
   ]
  },
  {
   "cell_type": "markdown",
   "metadata": {},
   "source": [
    "### Label Encoding\n",
    "\n",
    "Label encoding converts each category in the specified columns into a value between 0 and n - 1, where n is the number of categories. Note that the dtype must be category. \n",
    "\n",
    "##### Pros:\n",
    "- very quick to run \n",
    "- extremely easy method to encode your labels\n",
    "- does not create additional columns in your dataframe\n",
    "\n",
    "##### Cons:\n",
    "\n",
    "- gives different weight to labels, without knowing the meaning of the labels\n",
    "- difficult to interpret encoding results i.e. what is the corresponding categorical value for each numerical value given in the feature column"
   ]
  },
  {
   "cell_type": "code",
   "execution_count": 33,
   "metadata": {},
   "outputs": [],
   "source": [
    "Salaries['major'] = Salaries['major'].astype('category')\n",
    "Salaries['title'] = Salaries['title'].astype('category')\n",
    "Salaries['industry'] = Salaries['industry'].astype('category')\n",
    "Salaries['Q40'] = Salaries['Q40'].astype('category')\n",
    "\n",
    "Salaries['major'] = Salaries['major'].cat.codes\n",
    "Salaries['title'] = Salaries['title'].cat.codes\n",
    "Salaries['industry'] = Salaries['industry'].cat.codes\n",
    "Salaries['Q40'] = Salaries['Q40'].cat.codes"
   ]
  },
  {
   "cell_type": "markdown",
   "metadata": {},
   "source": [
    "### Dictionary Map Encoding for Q12"
   ]
  },
  {
   "cell_type": "code",
   "execution_count": 34,
   "metadata": {},
   "outputs": [],
   "source": [
    "def Q12_encode():\n",
    "    '''This function takes a column as an argument and returns an encoded version of the column. For question 12, -1 means\n",
    "    the respondent did not select that option and any number above -1 is considered that they chose that option'''\n",
    "    \n",
    "    Q12 = []\n",
    "    for index in Salaries.columns:\n",
    "        if index.startswith('Q12') == True:\n",
    "            Q12.append(index)\n",
    "    \n",
    "    for column in Q12:\n",
    "        # list of numbers that were in the Q12 columns that were read as the respondent's choice\n",
    "        labels = list(range(-1, 3363))\n",
    "        ones = [1] * len(labels)\n",
    "        # map -1 to first 0, list of ones the length of the number labels\n",
    "        num_list = [0] + ones\n",
    "        # define a dictionary for -1 to map to 0 and numbers above -1 to map to 1\n",
    "        replace_map = {k: v for k,v in zip(labels,num_list)}\n",
    "        Salaries[column] = Salaries[column].map(replace_map)\n",
    "    return Q12"
   ]
  },
  {
   "cell_type": "code",
   "execution_count": 35,
   "metadata": {},
   "outputs": [],
   "source": [
    "Q12 = Q12_encode()"
   ]
  },
  {
   "cell_type": "markdown",
   "metadata": {},
   "source": [
    "### Multiple Choice Question Replace Encoding\n",
    "\n",
    "Encoding for: Q11, Q13, Q14, Q15, Q16, Q19, Q21, Q27, Q28, Q29, 30, 31, 33, 36, 38, 42, 44, 45, 47, Q49, Q50\n",
    "\n",
    "These questions all have the same format where each column is full of either NaN or a selected choice label. All of these columns will be encoded using replace encoding. \n",
    "This method replaces the selected choice label with a 1, and the NaN with a 0.\n",
    "This could also be done using binary encoding, however binary encoding gave a bit of a messy format in the dataframe, and this method also appeared to run faster."
   ]
  },
  {
   "cell_type": "code",
   "execution_count": 36,
   "metadata": {},
   "outputs": [],
   "source": [
    "def MC_replace_encode(q_num):\n",
    "    \n",
    "    '''encoding for multiple choice where each choice has its own column as part 1, part 2, etc. The choice is replaced as\n",
    "    1 and NaN is set to 0. Returns the columns list and dictionary of labels for each question'''\n",
    "    \n",
    "    Q_col_list = []\n",
    "    for index in Salaries.columns:\n",
    "        if index.startswith(q_num) == True:\n",
    "            Q_col_list.append(index)\n",
    "    \n",
    "    replace_map = dict()\n",
    "    for Q_col in Q_col_list:\n",
    "        labels = Salaries[Q_col].astype('category').cat.categories.tolist()\n",
    "        replace_map[Q_col] = {k: v for k,v in zip(labels,list(range(1,len(labels)+1)))}\n",
    "    \n",
    "    # Have to fillna last, otherwise the 0 will be incorrectly added as a label to the dictionary\n",
    "    for Q_col in Q_col_list:\n",
    "        Salaries[Q_col].fillna(value=0, inplace=True)\n",
    "    \n",
    "    # replace labels in the column using the label dictionary replace_map\n",
    "    Salaries.replace(replace_map, inplace=True)\n",
    "    \n",
    "    return Q_col_list, replace_map"
   ]
  },
  {
   "cell_type": "code",
   "execution_count": 37,
   "metadata": {},
   "outputs": [],
   "source": [
    "# Use the MC_replace_encode function to determine the columns list and label dictionary for each MC question in the survey\n",
    "Q11, replace_map_Q11 = MC_replace_encode('Q11')\n",
    "Q13, replace_map_Q13 = MC_replace_encode('Q13')\n",
    "Q14, replace_map_Q14 = MC_replace_encode('Q14')\n",
    "Q15, replace_map_Q15 = MC_replace_encode('Q15')\n",
    "Q16, replace_map_Q16 = MC_replace_encode('Q16')\n",
    "Q19, replace_map_Q19 = MC_replace_encode('Q19') \n",
    "Q21, replace_map_Q21 = MC_replace_encode('Q21')\n",
    "Q27, replace_map_Q27 = MC_replace_encode('Q27')\n",
    "Q28, replace_map_Q28 = MC_replace_encode('Q28')\n",
    "Q29, replace_map_Q29 = MC_replace_encode('Q29')\n",
    "Q30, replace_map_Q30 = MC_replace_encode('Q30')\n",
    "Q31, replace_map_Q31 = MC_replace_encode('Q31')\n",
    "Q33, replace_map_Q33 = MC_replace_encode('Q33')\n",
    "Q36, replace_map_Q36 = MC_replace_encode('Q36')\n",
    "Q38, replace_map_Q38 = MC_replace_encode('Q38')\n",
    "Q42, replace_map_Q42 = MC_replace_encode('Q42')\n",
    "Q44, replace_map_Q44 = MC_replace_encode('Q44')\n",
    "Q45, replace_map_Q45 = MC_replace_encode('Q45')\n",
    "Q47, replace_map_Q47 = MC_replace_encode('Q47')\n",
    "Q49, replace_map_Q49 = MC_replace_encode('Q49')\n",
    "Q50, replace_map_Q50 = MC_replace_encode('Q50')"
   ]
  },
  {
   "cell_type": "markdown",
   "metadata": {},
   "source": [
    "## 2. Exploratory Analysis\n",
    "### Feature correlation\n",
    "\n",
    "The feature correlation is a measure of how a given feature is related to Salary. A correlation of 1 means the feature is perfectly correlated to Salary. A correlation of 0 means the feature is uncorrelated and has no effect on Salary. A correlation of 1 is considered too high, and a correlation of 0 is too low. A correlation of 0.5 is considered to be a very good feature."
   ]
  },
  {
   "cell_type": "code",
   "execution_count": 38,
   "metadata": {
    "scrolled": false
   },
   "outputs": [],
   "source": [
    "#calculate correlation matrix of the Salaries dataset\n",
    "correlations = Salaries.corr()\n",
    "\n",
    "#create a new dataframe just for correlations of variables for salary\n",
    "Sal_correlations = pd.DataFrame(data=correlations.loc['salary'])\n",
    "Sal_correlations.rename(columns={'salary': 'correlation'}, inplace=True)\n",
    "\n",
    "# sort by absolute value in descending order\n",
    "Sal_correlations = Sal_correlations.reindex(Sal_correlations.correlation.abs().sort_values(ascending=False).index)"
   ]
  },
  {
   "cell_type": "code",
   "execution_count": 39,
   "metadata": {},
   "outputs": [
    {
     "data": {
      "text/plain": [
       "<matplotlib.axes._subplots.AxesSubplot at 0x18b27b489b0>"
      ]
     },
     "execution_count": 39,
     "metadata": {},
     "output_type": "execute_result"
    },
    {
     "data": {
      "image/png": "[encoded data removed]",
      "text/plain": [
       "<Figure size 360x3240 with 2 Axes>"
      ]
     },
     "metadata": {
      "needs_background": "light"
     },
     "output_type": "display_data"
    }
   ],
   "source": [
    "fig = plt.figure(figsize=(5,45))\n",
    "fig.add_subplot(1,1,1)\n",
    "sns.heatmap(Sal_correlations,annot=True,cmap='RdYlGn') #data.corr()-->correlation matrix"
   ]
  },
  {
   "cell_type": "code",
   "execution_count": 40,
   "metadata": {},
   "outputs": [
    {
     "name": "stdout",
     "output_type": "stream",
     "text": [
      "   correlation         feature\n",
      "0     0.531986  GDP per capita\n",
      "1     0.372817             Q24\n",
      "2     0.368722         country\n",
      "3     0.363236             age\n",
      "4     0.313191             Q25\n",
      "5     0.293177      experience\n",
      "6     0.223529             Q10\n",
      "7     0.201812      Q27_Part_1\n",
      "8     0.195628      Q15_Part_2\n",
      "9     0.188871      Q11_Part_4\n"
     ]
    }
   ],
   "source": [
    "Sal_correlations.drop(['salary'], axis=0, inplace=True)\n",
    "Sal_correlations['feature'] = Sal_correlations.index\n",
    "Sal_correlations.index = range(256)\n",
    "#Sal_correlations.reset_index(drop=True, inplace=True)\n",
    "\n",
    "# find and print the top 10 features\n",
    "correlation_top = Sal_correlations.head(10)\n",
    "print(correlation_top)"
   ]
  },
  {
   "cell_type": "code",
   "execution_count": 41,
   "metadata": {},
   "outputs": [
    {
     "data": {
      "text/plain": [
       "Text(0, 0.5, 'Feature')"
      ]
     },
     "execution_count": 41,
     "metadata": {},
     "output_type": "execute_result"
    },
    {
     "data": {
      "image/png": "[encoded data removed]",
      "text/plain": [
       "<Figure size 720x360 with 1 Axes>"
      ]
     },
     "metadata": {
      "needs_background": "light"
     },
     "output_type": "display_data"
    }
   ],
   "source": [
    "fig = plt.figure(figsize=(10,5))\n",
    "fig.add_subplot(1,1,1)\n",
    "\n",
    "sns.barplot(y='feature',x='correlation',data=correlation_top)\n",
    "\n",
    "plt.title(\"Top 10 Feature correlation values\")\n",
    "plt.xlabel(\"Correlation\")\n",
    "plt.ylabel(\"Feature\")"
   ]
  },
  {
   "cell_type": "markdown",
   "metadata": {},
   "source": [
    "Clearly from the above plots, the attributes most related to a survey respondent's salary include:\n",
    "\n",
    "##### GDP per capita\n",
    "\n",
    "##### Q24 \n",
    "How long have you been writing code to analyze data?\n",
    "\n",
    "##### Country\n",
    "\n",
    "##### Age\n",
    "\n",
    "##### Q25 \n",
    "For how many years have you used machine learning methods (at work or in school)? \n",
    "\n",
    "##### Experience\n",
    "\n",
    "##### Q10 \n",
    "Does your current employer incorporate machine learning methods into their business?\n",
    "\n",
    "##### Q27_Part_1 \n",
    "Which of the following cloud computing products have you used at work or school in the last 5 years (Select all \n",
    "that apply)? - Selected Choice - AWS Elastic Compute Cloud (EC2)\n",
    "\n",
    "##### Q15_Part_2 \n",
    "Which of the following cloud computing services have you used at work or school in the last 5 years? (Select all that apply) - Selected Choice - Amazon Web Services (AWS)\n",
    "\n",
    "##### Q11_Part_4 \n",
    "Select any activities that make up an important part of your role at work: (Select all that apply) - Selected Choice - Build prototypes to explore applying machine learning to new areas"
   ]
  },
  {
   "cell_type": "markdown",
   "metadata": {},
   "source": [
    "### Data Visualization"
   ]
  },
  {
   "cell_type": "code",
   "execution_count": 42,
   "metadata": {},
   "outputs": [
    {
     "data": {
      "text/html": [
       "<div>\n",
       "<style scoped>\n",
       "    .dataframe tbody tr th:only-of-type {\n",
       "        vertical-align: middle;\n",
       "    }\n",
       "\n",
       "    .dataframe tbody tr th {\n",
       "        vertical-align: top;\n",
       "    }\n",
       "\n",
       "    .dataframe thead th {\n",
       "        text-align: right;\n",
       "    }\n",
       "</style>\n",
       "<table border=\"1\" class=\"dataframe\">\n",
       "  <thead>\n",
       "    <tr style=\"text-align: right;\">\n",
       "      <th></th>\n",
       "      <th>gender</th>\n",
       "      <th>age</th>\n",
       "      <th>country</th>\n",
       "      <th>education</th>\n",
       "      <th>major</th>\n",
       "      <th>title</th>\n",
       "      <th>industry</th>\n",
       "      <th>experience</th>\n",
       "      <th>salary</th>\n",
       "      <th>Q10</th>\n",
       "      <th>...</th>\n",
       "      <th>Q49_Part_6</th>\n",
       "      <th>Q49_Part_7</th>\n",
       "      <th>Q49_Part_8</th>\n",
       "      <th>Q49_Part_9</th>\n",
       "      <th>Q49_Part_10</th>\n",
       "      <th>Q50_Part_2</th>\n",
       "      <th>Q50_Part_3</th>\n",
       "      <th>Q50_Part_4</th>\n",
       "      <th>Q50_Part_5</th>\n",
       "      <th>Q50_Part_7</th>\n",
       "    </tr>\n",
       "  </thead>\n",
       "  <tbody>\n",
       "    <tr>\n",
       "      <th>0</th>\n",
       "      <td>Male</td>\n",
       "      <td>35</td>\n",
       "      <td>Chile</td>\n",
       "      <td>Doctoral degree</td>\n",
       "      <td>Information technology, networking, or system ...</td>\n",
       "      <td>Other</td>\n",
       "      <td>Academics/Education</td>\n",
       "      <td>10-15</td>\n",
       "      <td>11957</td>\n",
       "      <td>No (we do not use ML methods)</td>\n",
       "      <td>...</td>\n",
       "      <td>NaN</td>\n",
       "      <td>NaN</td>\n",
       "      <td>Define all random seeds</td>\n",
       "      <td>NaN</td>\n",
       "      <td>NaN</td>\n",
       "      <td>NaN</td>\n",
       "      <td>NaN</td>\n",
       "      <td>NaN</td>\n",
       "      <td>NaN</td>\n",
       "      <td>NaN</td>\n",
       "    </tr>\n",
       "    <tr>\n",
       "      <th>1</th>\n",
       "      <td>Male</td>\n",
       "      <td>21</td>\n",
       "      <td>India</td>\n",
       "      <td>Master’s degree</td>\n",
       "      <td>Information technology, networking, or system ...</td>\n",
       "      <td>Other</td>\n",
       "      <td>Other</td>\n",
       "      <td>0-1</td>\n",
       "      <td>2696</td>\n",
       "      <td>We recently started using ML methods (i.e., mo...</td>\n",
       "      <td>...</td>\n",
       "      <td>Make sure the code is well documented</td>\n",
       "      <td>Make sure the code is human-readable</td>\n",
       "      <td>NaN</td>\n",
       "      <td>Define relative rather than absolute file paths</td>\n",
       "      <td>NaN</td>\n",
       "      <td>NaN</td>\n",
       "      <td>NaN</td>\n",
       "      <td>NaN</td>\n",
       "      <td>Not enough incentives to share my work</td>\n",
       "      <td>NaN</td>\n",
       "    </tr>\n",
       "    <tr>\n",
       "      <th>2</th>\n",
       "      <td>Male</td>\n",
       "      <td>34</td>\n",
       "      <td>Hungary</td>\n",
       "      <td>Master’s degree</td>\n",
       "      <td>Engineering (non-computer focused)</td>\n",
       "      <td>Software Engineer</td>\n",
       "      <td>Online Service/Internet-based Services</td>\n",
       "      <td>3-4</td>\n",
       "      <td>21152</td>\n",
       "      <td>We have well established ML methods (i.e., mod...</td>\n",
       "      <td>...</td>\n",
       "      <td>Make sure the code is well documented</td>\n",
       "      <td>Make sure the code is human-readable</td>\n",
       "      <td>Define all random seeds</td>\n",
       "      <td>NaN</td>\n",
       "      <td>Include a text file describing all dependencies</td>\n",
       "      <td>Too time-consuming</td>\n",
       "      <td>NaN</td>\n",
       "      <td>Afraid that others will use my work without gi...</td>\n",
       "      <td>NaN</td>\n",
       "      <td>NaN</td>\n",
       "    </tr>\n",
       "    <tr>\n",
       "      <th>3</th>\n",
       "      <td>Male</td>\n",
       "      <td>41</td>\n",
       "      <td>United States of America</td>\n",
       "      <td>Master’s degree</td>\n",
       "      <td>Engineering (non-computer focused)</td>\n",
       "      <td>Data Scientist</td>\n",
       "      <td>Other</td>\n",
       "      <td>5-10</td>\n",
       "      <td>132826</td>\n",
       "      <td>We recently started using ML methods (i.e., mo...</td>\n",
       "      <td>...</td>\n",
       "      <td>Make sure the code is well documented</td>\n",
       "      <td>Make sure the code is human-readable</td>\n",
       "      <td>Define all random seeds</td>\n",
       "      <td>NaN</td>\n",
       "      <td>Include a text file describing all dependencies</td>\n",
       "      <td>Too time-consuming</td>\n",
       "      <td>NaN</td>\n",
       "      <td>NaN</td>\n",
       "      <td>Not enough incentives to share my work</td>\n",
       "      <td>NaN</td>\n",
       "    </tr>\n",
       "    <tr>\n",
       "      <th>4</th>\n",
       "      <td>Male</td>\n",
       "      <td>29</td>\n",
       "      <td>United States of America</td>\n",
       "      <td>Bachelor’s degree</td>\n",
       "      <td>Mathematics or statistics</td>\n",
       "      <td>Research Assistant</td>\n",
       "      <td>Academics/Education</td>\n",
       "      <td>1-2</td>\n",
       "      <td>35826</td>\n",
       "      <td>We are exploring ML methods (and may one day p...</td>\n",
       "      <td>...</td>\n",
       "      <td>Make sure the code is well documented</td>\n",
       "      <td>Make sure the code is human-readable</td>\n",
       "      <td>NaN</td>\n",
       "      <td>NaN</td>\n",
       "      <td>Include a text file describing all dependencies</td>\n",
       "      <td>Too time-consuming</td>\n",
       "      <td>NaN</td>\n",
       "      <td>NaN</td>\n",
       "      <td>NaN</td>\n",
       "      <td>NaN</td>\n",
       "    </tr>\n",
       "  </tbody>\n",
       "</table>\n",
       "<p>5 rows × 182 columns</p>\n",
       "</div>"
      ],
      "text/plain": [
       "  gender  age                   country          education  \\\n",
       "0   Male   35                     Chile    Doctoral degree   \n",
       "1   Male   21                     India    Master’s degree   \n",
       "2   Male   34                   Hungary    Master’s degree   \n",
       "3   Male   41  United States of America    Master’s degree   \n",
       "4   Male   29  United States of America  Bachelor’s degree   \n",
       "\n",
       "                                               major               title  \\\n",
       "0  Information technology, networking, or system ...               Other   \n",
       "1  Information technology, networking, or system ...               Other   \n",
       "2                 Engineering (non-computer focused)   Software Engineer   \n",
       "3                 Engineering (non-computer focused)      Data Scientist   \n",
       "4                          Mathematics or statistics  Research Assistant   \n",
       "\n",
       "                                 industry experience  salary  \\\n",
       "0                     Academics/Education      10-15   11957   \n",
       "1                                   Other        0-1    2696   \n",
       "2  Online Service/Internet-based Services        3-4   21152   \n",
       "3                                   Other       5-10  132826   \n",
       "4                     Academics/Education        1-2   35826   \n",
       "\n",
       "                                                 Q10     ...      \\\n",
       "0                      No (we do not use ML methods)     ...       \n",
       "1  We recently started using ML methods (i.e., mo...     ...       \n",
       "2  We have well established ML methods (i.e., mod...     ...       \n",
       "3  We recently started using ML methods (i.e., mo...     ...       \n",
       "4  We are exploring ML methods (and may one day p...     ...       \n",
       "\n",
       "                              Q49_Part_6  \\\n",
       "0                                    NaN   \n",
       "1  Make sure the code is well documented   \n",
       "2  Make sure the code is well documented   \n",
       "3  Make sure the code is well documented   \n",
       "4  Make sure the code is well documented   \n",
       "\n",
       "                             Q49_Part_7               Q49_Part_8  \\\n",
       "0                                   NaN  Define all random seeds   \n",
       "1  Make sure the code is human-readable                      NaN   \n",
       "2  Make sure the code is human-readable  Define all random seeds   \n",
       "3  Make sure the code is human-readable  Define all random seeds   \n",
       "4  Make sure the code is human-readable                      NaN   \n",
       "\n",
       "                                        Q49_Part_9  \\\n",
       "0                                              NaN   \n",
       "1  Define relative rather than absolute file paths   \n",
       "2                                              NaN   \n",
       "3                                              NaN   \n",
       "4                                              NaN   \n",
       "\n",
       "                                       Q49_Part_10          Q50_Part_2  \\\n",
       "0                                              NaN                 NaN   \n",
       "1                                              NaN                 NaN   \n",
       "2  Include a text file describing all dependencies  Too time-consuming   \n",
       "3  Include a text file describing all dependencies  Too time-consuming   \n",
       "4  Include a text file describing all dependencies  Too time-consuming   \n",
       "\n",
       "   Q50_Part_3                                         Q50_Part_4  \\\n",
       "0         NaN                                                NaN   \n",
       "1         NaN                                                NaN   \n",
       "2         NaN  Afraid that others will use my work without gi...   \n",
       "3         NaN                                                NaN   \n",
       "4         NaN                                                NaN   \n",
       "\n",
       "                               Q50_Part_5  Q50_Part_7  \n",
       "0                                     NaN         NaN  \n",
       "1  Not enough incentives to share my work         NaN  \n",
       "2                                     NaN         NaN  \n",
       "3  Not enough incentives to share my work         NaN  \n",
       "4                                     NaN         NaN  \n",
       "\n",
       "[5 rows x 182 columns]"
      ]
     },
     "execution_count": 42,
     "metadata": {},
     "output_type": "execute_result"
    }
   ],
   "source": [
    "Salaries_orig.head()"
   ]
  },
  {
   "cell_type": "code",
   "execution_count": 43,
   "metadata": {},
   "outputs": [
    {
     "data": {
      "text/plain": [
       "Text(0, 0.5, 'Country')"
      ]
     },
     "execution_count": 43,
     "metadata": {},
     "output_type": "execute_result"
    },
    {
     "data": {
      "image/png": "[encoded data removed]",
      "text/plain": [
       "<Figure size 720x720 with 1 Axes>"
      ]
     },
     "metadata": {
      "needs_background": "light"
     },
     "output_type": "display_data"
    }
   ],
   "source": [
    "# Calculates salary per country\n",
    "country_plot = Salaries_orig.groupby(['country'], as_index=False)['salary'].mean()\n",
    "country_plot = country_plot.sort_values(by='salary', ascending=False)\n",
    "fig = plt.figure(figsize=(10,10))\n",
    "fig.add_subplot(1,1,1)\n",
    "sns.barplot(x='salary',y='country',data=country_plot)\n",
    "plt.title(\"Average Salary based on Country\")\n",
    "plt.xlabel(\"Salary ($USD)\")\n",
    "plt.ylabel(\"Country\")"
   ]
  },
  {
   "cell_type": "code",
   "execution_count": 44,
   "metadata": {},
   "outputs": [
    {
     "data": {
      "text/plain": [
       "Text(0, 0.5, 'Mean Salary ($USD)')"
      ]
     },
     "execution_count": 44,
     "metadata": {},
     "output_type": "execute_result"
    },
    {
     "data": {
      "image/png": "[encoded data removed]",
      "text/plain": [
       "<Figure size 1296x360 with 1 Axes>"
      ]
     },
     "metadata": {
      "needs_background": "light"
     },
     "output_type": "display_data"
    }
   ],
   "source": [
    "# Calculates compensation per Q24 - coding experience\n",
    "Q24_plot = Salaries_orig.groupby(['Q24'], as_index=False)['salary'].mean()\n",
    "Q24_plot = Q24_plot.sort_values(by='salary', ascending=False)\n",
    "fig = plt.figure(figsize=(18,5))\n",
    "fig.add_subplot(1,1,1)\n",
    "sns.barplot(y='salary',x='Q24',data=Q24_plot)\n",
    "plt.title(\"Average Salary based on years of coding experience\")\n",
    "plt.xlabel(\"Coding experience (years)\")\n",
    "plt.ylabel(\"Mean Salary ($USD)\")"
   ]
  },
  {
   "cell_type": "code",
   "execution_count": 45,
   "metadata": {},
   "outputs": [
    {
     "data": {
      "text/plain": [
       "Text(0, 0.5, 'Mean Salary ($USD)')"
      ]
     },
     "execution_count": 45,
     "metadata": {},
     "output_type": "execute_result"
    },
    {
     "data": {
      "image/png": "[encoded data removed]",
      "text/plain": [
       "<Figure size 1296x360 with 1 Axes>"
      ]
     },
     "metadata": {
      "needs_background": "light"
     },
     "output_type": "display_data"
    }
   ],
   "source": [
    "# Calculates compensation per age\n",
    "age_plot = Salaries_orig.groupby(['age'], as_index=False)['salary'].mean()\n",
    "fig = plt.figure(figsize=(18,5))\n",
    "fig.add_subplot(1,1,1)\n",
    "sns.barplot(y='salary',x='age',data=age_plot)\n",
    "plt.title(\"Average Salary based on Age\")\n",
    "plt.xlabel(\"Age (years)\")\n",
    "plt.ylabel(\"Mean Salary ($USD)\")"
   ]
  },
  {
   "cell_type": "markdown",
   "metadata": {},
   "source": [
    "As you can see from the bar graphs above, there is a clear upward trend in Salary as a function of country, years of coding experience, and age. Clearly, the more years of experience with coding and the older you are, it is predicted you are to have a higher salary. Additionally, if the respondent indicates they live in Switzerland, the United States of America, or Australia they are more likely to have a higher salary than someone from Nigeria or Viet Nam."
   ]
  },
  {
   "cell_type": "markdown",
   "metadata": {},
   "source": [
    "## 3. Feature Selection\n",
    "\n",
    "Feature engineering is the process of taking a dataset and constructing features that can be used to train a machine learning model for a prediction problem. Feature engineering is very useful when the intial variables are categorical and must be converted into some sort of numerical value to be processed by a regression model. For example, in an earlier step, I created a new column called GDP per capita and used a defined dictionary to map country to its GDP per capita. \n",
    "Feature selection is also important because if a dataset has a large set of features, it may take a long time to train the ML model and overfitting will most likely occur. Therefore, it is important to reduce the number of features while still retaining a high level of information.\n",
    "\n",
    "In order to reduce the number of features, I will run random forest to determine feature importance. Then, drop features with a low importance value.\n",
    "\n",
    "In order to reduce the number of features, first I will drop features with a correlation less than 0.01. This is a very low correlation value and means the feature has little affect on Salary. Therefore, the absence of these features should not affect the results."
   ]
  },
  {
   "cell_type": "code",
   "execution_count": 46,
   "metadata": {},
   "outputs": [],
   "source": [
    "Salaries_Y = Salaries['salary']\n",
    "Salaries_X = Salaries\n",
    "Salaries_X.drop(columns=['salary'], axis=1, inplace=True)"
   ]
  },
  {
   "cell_type": "code",
   "execution_count": 47,
   "metadata": {},
   "outputs": [],
   "source": [
    "# Find features with a absolute value correlation to salary less than 0.05\n",
    "corr_thresh = 0.05\n",
    "low_corr = Sal_correlations[Sal_correlations['correlation'].abs() < corr_thresh].feature.tolist()\n",
    "\n",
    "# drop low correlation features\n",
    "Salaries_X.drop(low_corr, axis=1, inplace=True)"
   ]
  },
  {
   "cell_type": "markdown",
   "metadata": {},
   "source": [
    "### Random Forest Feature Importance"
   ]
  },
  {
   "cell_type": "code",
   "execution_count": 48,
   "metadata": {},
   "outputs": [],
   "source": [
    "model_RF=RandomForestRegressor(max_depth=10, n_estimators=100)\n",
    "model_RF.fit(Salaries_X,Salaries_Y)\n",
    "feature_importance_RF = pd.DataFrame(model_RF.feature_importances_, columns=['importance'])\n",
    "feature_importance_RF['feature'] = Salaries_X.columns"
   ]
  },
  {
   "cell_type": "code",
   "execution_count": 49,
   "metadata": {},
   "outputs": [
    {
     "data": {
      "text/plain": [
       "Text(0, 0.5, 'Feature')"
      ]
     },
     "execution_count": 49,
     "metadata": {},
     "output_type": "execute_result"
    },
    {
     "data": {
      "image/png": "[encoded data removed]",
      "text/plain": [
       "<Figure size 360x360 with 1 Axes>"
      ]
     },
     "metadata": {
      "needs_background": "light"
     },
     "output_type": "display_data"
    }
   ],
   "source": [
    "fig = plt.figure(figsize=(5,5))\n",
    "fig.add_subplot(1,1,1)\n",
    "sns.barplot(x='importance',y='feature',data=feature_importance_RF.sort_values(by=['importance'],ascending=False).head(30))\n",
    "plt.title(\"Random Forest Feature Importance\")\n",
    "plt.xlabel(\"Feature Importance\")\n",
    "plt.ylabel(\"Feature\")"
   ]
  },
  {
   "cell_type": "code",
   "execution_count": 50,
   "metadata": {},
   "outputs": [],
   "source": [
    "low_importance = feature_importance_RF[feature_importance_RF['importance'] < 0.005].feature.tolist()"
   ]
  },
  {
   "cell_type": "code",
   "execution_count": 51,
   "metadata": {},
   "outputs": [],
   "source": [
    "Salaries_X.drop(low_importance, axis=1, inplace=True)"
   ]
  },
  {
   "cell_type": "code",
   "execution_count": 52,
   "metadata": {},
   "outputs": [
    {
     "data": {
      "text/plain": [
       "(8576, 27)"
      ]
     },
     "execution_count": 52,
     "metadata": {},
     "output_type": "execute_result"
    }
   ],
   "source": [
    "Salaries_X.shape\n",
    "#Salaries_X.head()\n",
    "#Salaries_Y.shape\n",
    "#Salaries_X_train.shape\n",
    "#Salaries_X_test.shape\n",
    "#Salaries_Y_train.shape\n",
    "#Salaries_Y_test.shape"
   ]
  },
  {
   "cell_type": "code",
   "execution_count": 53,
   "metadata": {},
   "outputs": [],
   "source": [
    "Salaries_X_train, Salaries_X_test, Salaries_Y_train, Salaries_Y_test = train_test_split(Salaries_X, Salaries_Y, random_state=42, test_size=0.3)"
   ]
  },
  {
   "cell_type": "markdown",
   "metadata": {},
   "source": [
    "## 4. Model Implementation\n",
    "\n",
    "1. Lasso regularization (linear regression)\n",
    "2. Gradient Boosting\n",
    "3. KNN \n",
    "4. Random Forest"
   ]
  },
  {
   "cell_type": "code",
   "execution_count": 54,
   "metadata": {},
   "outputs": [],
   "source": [
    "#set up cross validation\n",
    "def run_kfold(model):\n",
    "    \n",
    "    X = Salaries_X_train\n",
    "    Y = Salaries_Y_train\n",
    "    \n",
    "    kf = KFold(n_splits=10) #n_splits previously n_folds\n",
    "    \n",
    "    score = []\n",
    "    mean_abs_err = []\n",
    "    train_var = []\n",
    "    train_bias = []\n",
    "    fold = 0\n",
    "    \n",
    "    for train_index, test_index in kf.split(X):\n",
    "        fold += 1\n",
    "        X_train, X_test = X.values[train_index], X.values[test_index]\n",
    "        Y_train, Y_test = Y.values[train_index], Y.values[test_index]\n",
    "        \n",
    "        model.fit(X_train, Y_train)\n",
    "        predictions = model.predict(X_test)\n",
    "        \n",
    "        accuracy = r2_score(Y_test, predictions) # can try mean absolute error instead\n",
    "        error = mean_absolute_error(Y_test, predictions)\n",
    "        variance = np.var(predictions)\n",
    "        bias = norm(predictions - Y_test)\n",
    "        \n",
    "        score.append(accuracy)\n",
    "        mean_abs_err.append(error)\n",
    "        train_var.append(variance)\n",
    "        train_bias.append(bias)\n",
    "        print(\"Fold {0} Accuracy: {1}\".format(fold, accuracy))\n",
    "        \n",
    "    mean_score = np.mean(score)\n",
    "    var_score = np.var(score)\n",
    "    \n",
    "    mean_error = np.mean(mean_abs_err)\n",
    "    mean_var = np.mean(train_var)\n",
    "    mean_bias = np.mean(train_bias)\n",
    "    \n",
    "    print(\"Mean Train Score: {0}\".format(mean_score))\n",
    "    print(\"Variance Score: {0}\".format(var_score))\n",
    "    #print(\"Mean Squared Error: {0}\".format(mean_error))\n",
    "    #print(\"Mean Variance: {0}\".format(mean_var))\n",
    "    #print(\"Mean Bias: {0}\".format(mean_bias))\n",
    "    \n",
    "    return mean_score, var_score, mean_error, mean_var, mean_bias"
   ]
  },
  {
   "cell_type": "markdown",
   "metadata": {},
   "source": [
    "### Lasso Regression\n",
    "\n",
    "##### How it works:\n",
    "Lasso Regression (Least Absolute Shrinkage and Selection Operator) adds a penalty term to the loss function proportional to the absolute value of magnitude of coefficient. \n",
    "Lasso shrinks the less important feature’s coefficient to zero, thus removing these features altogether.  \n",
    "\n",
    "##### Pros:\n",
    "- fast\n",
    "- easy to understand results\n",
    "- less prone to overfitting\n",
    "- good with numerical data with lots of features\n",
    "\n",
    "##### Cons:\n",
    "- unable to model complex relationships\n",
    "- unable to capture nonlinear relationships without first transforming the inputs"
   ]
  },
  {
   "cell_type": "code",
   "execution_count": 55,
   "metadata": {},
   "outputs": [
    {
     "name": "stdout",
     "output_type": "stream",
     "text": [
      "Fold 1 Accuracy: 0.48955920451480295\n",
      "Fold 2 Accuracy: 0.4647841835042993\n",
      "Fold 3 Accuracy: 0.45754507157753266\n",
      "Fold 4 Accuracy: 0.4321313459713212\n",
      "Fold 5 Accuracy: 0.41709809077717663\n",
      "Fold 6 Accuracy: 0.4470534802838111\n",
      "Fold 7 Accuracy: 0.41450694966809565\n",
      "Fold 8 Accuracy: 0.4339281777771027\n",
      "Fold 9 Accuracy: 0.5035752415179471\n",
      "Fold 10 Accuracy: 0.44417221973393783\n",
      "Mean Train Score: 0.4504353965326027\n",
      "Variance Score: 0.0007671371171141662\n"
     ]
    }
   ],
   "source": [
    "model_lasso = linear_model.Lasso(alpha = 0.5,max_iter=10000)\n",
    "mean_score_lasso, var_score_lasso, mean_error_lasso, mean_var_lasso, mean_bias_lasso = run_kfold(model_lasso)"
   ]
  },
  {
   "cell_type": "markdown",
   "metadata": {},
   "source": [
    "### Gradient Boosting\n",
    "\n",
    "##### How it works:\n",
    "\n",
    "Builds decision trees one at a time, where each new tree helps to correct errors made by the previously trained tree.\n",
    "\n",
    "1. Build an initial decision tree based on a subset of the original dataset. This is referred to as the base model. Initially, all data points are given equal weights.\n",
    "2. Make predictions on the whole dataset using base model.\n",
    "3. Calculate errors using the actual and predicted values.\n",
    "4. Higher weights are then given to observations which were incorrectly predicted\n",
    "5. Multiple models are created, each correcting the errors of the previous model.\n",
    "6. The final model (strong learner) is the weighted mean of all the models (weak learners).\n",
    "\n",
    "##### Pros:\n",
    "- provides very high predictive accuracy\n",
    "- can be used to solve almost all objective functions \n",
    "- provides flexibility - easy to tune\n",
    "- can control for both bias and variance\n",
    "- works well with categorical and numerical values as is\n",
    "- can handle missing data\n",
    "\n",
    "##### Cons:\n",
    "\n",
    "- more sensitive to overfitting if the data is noisy\n",
    "- training generally takes longer because trees are built sequentially\n",
    "- requires a large grid search during tuning"
   ]
  },
  {
   "cell_type": "code",
   "execution_count": 56,
   "metadata": {},
   "outputs": [
    {
     "name": "stdout",
     "output_type": "stream",
     "text": [
      "Fold 1 Accuracy: 0.5717284112032545\n",
      "Fold 2 Accuracy: 0.5312699158050133\n",
      "Fold 3 Accuracy: 0.4882972106388893\n",
      "Fold 4 Accuracy: 0.4914822436738375\n",
      "Fold 5 Accuracy: 0.42718124628591747\n",
      "Fold 6 Accuracy: 0.4695383557334023\n",
      "Fold 7 Accuracy: 0.4343904451350208\n",
      "Fold 8 Accuracy: 0.49159645032456034\n",
      "Fold 9 Accuracy: 0.5499407107144861\n",
      "Fold 10 Accuracy: 0.5050528812221964\n",
      "Mean Train Score: 0.4960477870736578\n",
      "Variance Score: 0.0019301402385645586\n"
     ]
    }
   ],
   "source": [
    "model_GB = GradientBoostingRegressor(learning_rate=0.1, n_estimators=100, max_depth=3)\n",
    "mean_score_GB, var_score_GB, mean_error_GB, mean_var_GB, mean_bias_GB = run_kfold(model_GB)"
   ]
  },
  {
   "cell_type": "markdown",
   "metadata": {},
   "source": [
    "### K-Nearest Neighbours\n",
    "\n",
    "##### How it works:\n",
    "The algorithm uses feature similarity to predict values of any new data points in the test set. The new point is assigned a value based on how closely it resembles the points in the training set.\n",
    "\n",
    "1. The distance between the new point and each training point is calculated.\n",
    "2. The closest k data points are selected (based on the distance).\n",
    "3. The average of these data points is the final prediction for the new point.\n",
    "\n",
    "##### Pros:\n",
    "- Simple to understand and easy to implement \n",
    "- Minimal parameter tuning required\n",
    "- Fast\n",
    "\n",
    "##### Cons:\n",
    "- works well with small number of input variables but as the numbers of variables grow K-NN algorithm struggles to predict the output of new data point.\n",
    "- very sensitive to outliers as it simply chooses the neighbors based on distance criteria."
   ]
  },
  {
   "cell_type": "code",
   "execution_count": 57,
   "metadata": {},
   "outputs": [
    {
     "name": "stdout",
     "output_type": "stream",
     "text": [
      "Fold 1 Accuracy: 0.39467236852497645\n",
      "Fold 2 Accuracy: 0.3811592654675444\n",
      "Fold 3 Accuracy: 0.4025268906917462\n",
      "Fold 4 Accuracy: 0.3632845929126812\n",
      "Fold 5 Accuracy: 0.2806491726722714\n",
      "Fold 6 Accuracy: 0.34657512140989044\n",
      "Fold 7 Accuracy: 0.29057018455981176\n",
      "Fold 8 Accuracy: 0.3972757946707146\n",
      "Fold 9 Accuracy: 0.4327661435109067\n",
      "Fold 10 Accuracy: 0.41304141050301413\n",
      "Mean Train Score: 0.3702520944923557\n",
      "Variance Score: 0.0023213226394710835\n"
     ]
    }
   ],
   "source": [
    "model_KNN = neighbors.KNeighborsRegressor(n_neighbors = 10)\n",
    "mean_score_KNN, var_score_KNN, mean_error_KNN, mean_var_KNN, mean_bias_KNN = run_kfold(model_KNN)"
   ]
  },
  {
   "cell_type": "markdown",
   "metadata": {},
   "source": [
    "### Random Forest\n",
    "\n",
    "##### How it works:\n",
    "The random forest algorithm randomly selects a set of features which are used to decide the best split at each node of the decision tree.\n",
    "\n",
    "1. Random subsets are created from the original dataset (bootstrapping).\n",
    "2. At each node in the decision tree, only a random set of features are considered to decide the best split.\n",
    "3. A decision tree model is fitted on each of the subsets.\n",
    "4. The final prediction is calculated by averaging the predictions from all decision trees.\n",
    "\n",
    "##### Pros:\n",
    "- Easy to tune\n",
    "- more robust than a single decision tree\n",
    "- less likely to overfit on the training data\n",
    "\n",
    "##### Cons:\n",
    "- a large number of trees may make the algorithm slow \n",
    "- random forests are biased in favor of attributes with more levels"
   ]
  },
  {
   "cell_type": "code",
   "execution_count": 58,
   "metadata": {},
   "outputs": [
    {
     "name": "stdout",
     "output_type": "stream",
     "text": [
      "Fold 1 Accuracy: 0.5485121800097135\n",
      "Fold 2 Accuracy: 0.49959166609541994\n",
      "Fold 3 Accuracy: 0.4604875664995106\n",
      "Fold 4 Accuracy: 0.46146627947673935\n",
      "Fold 5 Accuracy: 0.38384878261735955\n",
      "Fold 6 Accuracy: 0.45052358759832356\n",
      "Fold 7 Accuracy: 0.41329424810952087\n",
      "Fold 8 Accuracy: 0.4476728300406282\n",
      "Fold 9 Accuracy: 0.5414902605290253\n",
      "Fold 10 Accuracy: 0.4707932939042737\n",
      "Mean Train Score: 0.46776806948805144\n",
      "Variance Score: 0.0023780219129286026\n"
     ]
    }
   ],
   "source": [
    "model_RF = RandomForestRegressor(n_estimators=100, max_depth=10)\n",
    "mean_score_RF, var_score_RF, mean_error_RF, mean_var_RF, mean_bias_RF = run_kfold(model_RF)"
   ]
  },
  {
   "cell_type": "code",
   "execution_count": 59,
   "metadata": {},
   "outputs": [],
   "source": [
    "Train_Score = [mean_score_lasso, mean_score_GB, mean_score_KNN, mean_score_RF]\n",
    "Score_variance = [var_score_lasso, var_score_GB, var_score_KNN, var_score_RF]\n",
    "Train_error = [mean_error_lasso, mean_error_GB, mean_error_KNN, mean_error_RF]\n",
    "models = ['Lasso','Gradient Boosting', 'KNN','Random Forest']\n",
    "\n",
    "results_df = pd.DataFrame({'Train Score Mean': Train_Score,'Score Variance':Score_variance, 'Train error': Train_error}, index = models)  "
   ]
  },
  {
   "cell_type": "markdown",
   "metadata": {},
   "source": [
    "#### Summary of results\n",
    "\n",
    "Random forest has the lowest error, however the gradient boosting algorithm has a higher accuracy score and lower variance. Lasso regression has the lowest variance, but a higher error, most likely meaning this algorithm has a higher bias. \n",
    "KNN had the worst results, with the lowest accuracy score and highest error."
   ]
  },
  {
   "cell_type": "code",
   "execution_count": 60,
   "metadata": {},
   "outputs": [
    {
     "data": {
      "text/html": [
       "<div>\n",
       "<style scoped>\n",
       "    .dataframe tbody tr th:only-of-type {\n",
       "        vertical-align: middle;\n",
       "    }\n",
       "\n",
       "    .dataframe tbody tr th {\n",
       "        vertical-align: top;\n",
       "    }\n",
       "\n",
       "    .dataframe thead th {\n",
       "        text-align: right;\n",
       "    }\n",
       "</style>\n",
       "<table border=\"1\" class=\"dataframe\">\n",
       "  <thead>\n",
       "    <tr style=\"text-align: right;\">\n",
       "      <th></th>\n",
       "      <th>Train Score Mean</th>\n",
       "      <th>Score Variance</th>\n",
       "      <th>Train error</th>\n",
       "    </tr>\n",
       "  </thead>\n",
       "  <tbody>\n",
       "    <tr>\n",
       "      <th>Lasso</th>\n",
       "      <td>0.450435</td>\n",
       "      <td>0.000767</td>\n",
       "      <td>27022.240882</td>\n",
       "    </tr>\n",
       "    <tr>\n",
       "      <th>Gradient Boosting</th>\n",
       "      <td>0.496048</td>\n",
       "      <td>0.001930</td>\n",
       "      <td>24788.347575</td>\n",
       "    </tr>\n",
       "    <tr>\n",
       "      <th>KNN</th>\n",
       "      <td>0.370252</td>\n",
       "      <td>0.002321</td>\n",
       "      <td>28831.969087</td>\n",
       "    </tr>\n",
       "    <tr>\n",
       "      <th>Random Forest</th>\n",
       "      <td>0.467768</td>\n",
       "      <td>0.002378</td>\n",
       "      <td>26071.495854</td>\n",
       "    </tr>\n",
       "  </tbody>\n",
       "</table>\n",
       "</div>"
      ],
      "text/plain": [
       "                   Train Score Mean  Score Variance   Train error\n",
       "Lasso                      0.450435        0.000767  27022.240882\n",
       "Gradient Boosting          0.496048        0.001930  24788.347575\n",
       "KNN                        0.370252        0.002321  28831.969087\n",
       "Random Forest              0.467768        0.002378  26071.495854"
      ]
     },
     "execution_count": 60,
     "metadata": {},
     "output_type": "execute_result"
    }
   ],
   "source": [
    "results_df"
   ]
  },
  {
   "cell_type": "markdown",
   "metadata": {},
   "source": [
    "## 5. Model Tuning"
   ]
  },
  {
   "cell_type": "code",
   "execution_count": 61,
   "metadata": {},
   "outputs": [],
   "source": [
    "def hyperparameter_tuning(model, parameters, metric):\n",
    "    \n",
    "    '''hyperparameter tuning using grid search method. Takes the model, parameters to tune, and metric\n",
    "    on which to choose the optimal parameters as function arguments'''\n",
    "    \n",
    "    acc_scorer = make_scorer(metric)\n",
    "    \n",
    "    grid_obj = GridSearchCV(model, parameters, scoring=acc_scorer, cv=5)\n",
    "    grid_obj = grid_obj.fit(Salaries_X, Salaries_Y)\n",
    "    gridsearch = grid_obj.best_estimator_\n",
    "    \n",
    "    fit = gridsearch.fit(Salaries_X, Salaries_Y)\n",
    "    score = gridsearch.score(Salaries_X, Salaries_Y)\n",
    "    \n",
    "    return gridsearch, fit, score"
   ]
  },
  {
   "cell_type": "markdown",
   "metadata": {},
   "source": [
    "### Lasso Regularization\n",
    "\n",
    "Grid Search Score: 0.4556636897239118\n",
    "\n",
    "Optimal parameters: Lasso(alpha=1, copy_X=True, fit_intercept=True, max_iter=1000, normalize=True,\n",
    "   positive=False, precompute=False, random_state=42, selection='cyclic',\n",
    "   tol=0.0001, warm_start=False)"
   ]
  },
  {
   "cell_type": "code",
   "execution_count": 62,
   "metadata": {},
   "outputs": [],
   "source": [
    "model = linear_model.Lasso(random_state=42)\n",
    "parameters = {'alpha':[0.5,1,3, 5, 10], # Constant that multiplies the L1 term. Defaults to 1.0.\n",
    "             'normalize':[True,False]} \n",
    "metric = r2_score\n",
    "\n",
    "#lasso_optimal, lasso_fit, lasso_score = hyperparameter_tuning(model, parameters, metric)"
   ]
  },
  {
   "cell_type": "markdown",
   "metadata": {},
   "source": [
    "### Gradient Boosting\n",
    "\n",
    "Grid Search Score: 0.5789563478672761\n",
    "\n",
    "Optimal parameters: GradientBoostingRegressor(alpha=0.9, criterion='friedman_mse', init=None,\n",
    "             learning_rate=0.1, loss='ls', max_depth=3, max_features=None,\n",
    "             max_leaf_nodes=None, min_impurity_decrease=0.0,\n",
    "             min_impurity_split=None, min_samples_leaf=1,\n",
    "             min_samples_split=2, min_weight_fraction_leaf=0.0,\n",
    "             n_estimators=100, n_iter_no_change=None, presort='auto',\n",
    "             random_state=None, subsample=1.0, tol=0.0001,\n",
    "             validation_fraction=0.1, verbose=0, warm_start=False)"
   ]
  },
  {
   "cell_type": "code",
   "execution_count": 63,
   "metadata": {},
   "outputs": [],
   "source": [
    "model = GradientBoostingRegressor()\n",
    "\n",
    "parameters = [{'loss': ['ls'],\n",
    "               'n_estimators': [100, 500, 1000],\n",
    "               'max_depth': [3, 5, 10]},\n",
    "              \n",
    "              {'loss': ['quantile'],\n",
    "               'n_estimators': [100, 500, 1000],\n",
    "               'max_depth': [3, 5, 10],\n",
    "               'alpha': [0.9, 0.95, 0.99]}\n",
    "             ]\n",
    "metric = r2_score\n",
    "\n",
    "#GB_optimal, GB_fit, GB_score = hyperparameter_tuning(model, parameters, metric)"
   ]
  },
  {
   "cell_type": "markdown",
   "metadata": {},
   "source": [
    "### K-Nearest Neighbours\n",
    "          \n",
    "Grid Search Score: 0.4450565492495384\n",
    "\n",
    "Optimal parameters: KNeighborsRegressor(algorithm='auto', leaf_size=30, metric='minkowski',\n",
    "          metric_params=None, n_jobs=None, n_neighbors=40, p=1,\n",
    "          weights='uniform')"
   ]
  },
  {
   "cell_type": "code",
   "execution_count": 64,
   "metadata": {},
   "outputs": [],
   "source": [
    "model = neighbors.KNeighborsRegressor(p=1)\n",
    "\n",
    "parameters = [{'n_neighbors': [10, 20, 40, 60]\n",
    "              }]\n",
    "metric = r2_score\n",
    "#KNN_optimal, KNN_fit, KNN_score = hyperparameter_tuning(model, parameters, metric)"
   ]
  },
  {
   "cell_type": "markdown",
   "metadata": {},
   "source": [
    "### Random Forest\n",
    "\n",
    "Grid Search Score: 0.9160464718603291\n",
    "\n",
    "Optimal parameters: RandomForestRegressor(bootstrap=True, criterion='mse', max_depth=15,\n",
    "           max_features='auto', max_leaf_nodes=None,\n",
    "           min_impurity_decrease=0.0, min_impurity_split=None,\n",
    "           min_samples_leaf=1, min_samples_split=2,\n",
    "           min_weight_fraction_leaf=0.0, n_estimators=1500, n_jobs=None,\n",
    "           oob_score=False, random_state=None, verbose=0, warm_start=False)"
   ]
  },
  {
   "cell_type": "code",
   "execution_count": 65,
   "metadata": {},
   "outputs": [],
   "source": [
    "model = RandomForestRegressor()\n",
    "\n",
    "parameters = [{'n_estimators': [100, 1000, 1500],\n",
    "               'max_depth': [5, 10, 15]\n",
    "              }]\n",
    "metric = r2_score\n",
    "#RF_optimal, RF_fit, RF_score = hyperparameter_tuning(model, parameters, metric)"
   ]
  },
  {
   "cell_type": "markdown",
   "metadata": {},
   "source": [
    "## 6. Testing and Discussion"
   ]
  },
  {
   "cell_type": "markdown",
   "metadata": {},
   "source": [
    "Using the grid search method, and comparing r2 accuracy scores, the random forest algorithm had the highest grid search score, therefore this algorithm is chosen as the optimal solution."
   ]
  },
  {
   "cell_type": "code",
   "execution_count": 66,
   "metadata": {},
   "outputs": [
    {
     "name": "stdout",
     "output_type": "stream",
     "text": [
      "Fold 1 Accuracy: 0.5546001357631182\n",
      "Fold 2 Accuracy: 0.512826771247986\n",
      "Fold 3 Accuracy: 0.46096522235617665\n",
      "Fold 4 Accuracy: 0.4670720786303568\n",
      "Fold 5 Accuracy: 0.38844108390639454\n",
      "Fold 6 Accuracy: 0.44851307904024706\n",
      "Fold 7 Accuracy: 0.4144846442909147\n",
      "Fold 8 Accuracy: 0.4473791510956622\n",
      "Fold 9 Accuracy: 0.5401417211622251\n",
      "Fold 10 Accuracy: 0.4758328680411781\n",
      "Mean Train Score: 0.47102567555342595\n",
      "Variance Score: 0.002473208062241527\n",
      "------------------\n",
      " Test Score: 0.5008458866499211\n"
     ]
    }
   ],
   "source": [
    "model = RandomForestRegressor(bootstrap=True, criterion='mse', max_depth=15,\n",
    "           max_features='auto', max_leaf_nodes=None,\n",
    "           min_impurity_decrease=0.0, min_impurity_split=None,\n",
    "           min_samples_leaf=1, min_samples_split=2,\n",
    "           min_weight_fraction_leaf=0.0, n_estimators=1500, n_jobs=None,\n",
    "           oob_score=False, random_state=None, verbose=0, warm_start=False)\n",
    "\n",
    "mean_score, var_score, mean_error, mean_var, mean_bias = run_kfold(model)\n",
    "\n",
    "predictions = model.predict(Salaries_X_test)\n",
    "test_error = mean_absolute_error(Salaries_Y_test, predictions)\n",
    "Test_Score = r2_score(Salaries_Y_test, predictions)\n",
    "\n",
    "print (\"------------------\\n Test Score: \" + str(Test_Score))"
   ]
  },
  {
   "cell_type": "code",
   "execution_count": 67,
   "metadata": {},
   "outputs": [
    {
     "data": {
      "text/plain": [
       "26205.202511656753"
      ]
     },
     "execution_count": 67,
     "metadata": {},
     "output_type": "execute_result"
    }
   ],
   "source": [
    "mean_error"
   ]
  },
  {
   "cell_type": "code",
   "execution_count": 68,
   "metadata": {},
   "outputs": [
    {
     "data": {
      "text/plain": [
       "26051.908722085234"
      ]
     },
     "execution_count": 68,
     "metadata": {},
     "output_type": "execute_result"
    }
   ],
   "source": [
    "test_error"
   ]
  },
  {
   "cell_type": "markdown",
   "metadata": {},
   "source": [
    "### Summary of Results\n",
    "\n",
    "Mean Train Score: 0.46067143385857523\n",
    "\n",
    "Mean Train Error: 26289.227921664424\n",
    "\n",
    "Test Score: 0.49929767791180213\n",
    "\n",
    "Test Error: 26001.92855738829\n",
    "\n",
    "The testing score is higher than the training score and the error is lower. This indicates the model is a good fit for both the training and testing datasets, and there is no overfitting occurring."
   ]
  },
  {
   "cell_type": "markdown",
   "metadata": {},
   "source": [
    "## Bonus"
   ]
  },
  {
   "cell_type": "code",
   "execution_count": 69,
   "metadata": {},
   "outputs": [],
   "source": [
    "from sklearn.neural_network import MLPRegressor"
   ]
  },
  {
   "cell_type": "code",
   "execution_count": 70,
   "metadata": {},
   "outputs": [
    {
     "data": {
      "text/plain": [
       "MLPRegressor(activation='relu', alpha=1e-05, batch_size='auto', beta_1=0.9,\n",
       "       beta_2=0.999, early_stopping=False, epsilon=1e-08,\n",
       "       hidden_layer_sizes=(10, 8, 4), learning_rate='constant',\n",
       "       learning_rate_init=0.001, max_iter=1000, momentum=0.9,\n",
       "       n_iter_no_change=10, nesterovs_momentum=True, power_t=0.5,\n",
       "       random_state=1, shuffle=True, solver='lbfgs', tol=0.0001,\n",
       "       validation_fraction=0.1, verbose=False, warm_start=False)"
      ]
     },
     "execution_count": 70,
     "metadata": {},
     "output_type": "execute_result"
    }
   ],
   "source": [
    "clf = MLPRegressor(solver='lbfgs', alpha=1e-5, hidden_layer_sizes=(10,8,4), random_state=1, max_iter=1000)\n",
    "clf.fit(Salaries_X, Salaries_Y)"
   ]
  },
  {
   "cell_type": "code",
   "execution_count": 71,
   "metadata": {},
   "outputs": [
    {
     "data": {
      "text/plain": [
       "0.39038474548815694"
      ]
     },
     "execution_count": 71,
     "metadata": {},
     "output_type": "execute_result"
    }
   ],
   "source": [
    "clf.score(Salaries_X, Salaries_Y)"
   ]
  },
  {
   "cell_type": "code",
   "execution_count": 73,
   "metadata": {},
   "outputs": [
    {
     "data": {
      "text/plain": [
       "0.40198352604587195"
      ]
     },
     "execution_count": 73,
     "metadata": {},
     "output_type": "execute_result"
    }
   ],
   "source": [
    "clf.score(Salaries_X_test, Salaries_Y_test)"
   ]
  }
 ],
 "metadata": {
  "kernelspec": {
   "display_name": "Python 3",
   "language": "python",
   "name": "python3"
  },
  "language_info": {
   "codemirror_mode": {
    "name": "ipython",
    "version": 3
   },
   "file_extension": ".py",
   "mimetype": "text/x-python",
   "name": "python",
   "nbconvert_exporter": "python",
   "pygments_lexer": "ipython3",
   "version": "3.7.1"
  }
 },
 "nbformat": 4,
 "nbformat_minor": 2
}
